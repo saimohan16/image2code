{
 "cells": [
  {
   "cell_type": "markdown",
   "metadata": {
    "id": "xY4KuZUbq83Q"
   },
   "source": [
    "# Test Pix2Struct model on Synthetic Bootstrap dataset (mini version)"
   ]
  },
  {
   "cell_type": "markdown",
   "metadata": {
    "id": "jT6iC6BDrB9i"
   },
   "source": [
    "## Setup Envirnoment"
   ]
  },
  {
   "cell_type": "code",
   "execution_count": 2,
   "metadata": {
    "colab": {
     "base_uri": "https://localhost:8080/",
     "height": 0
    },
    "id": "jc7bhkoMEtq3",
    "outputId": "c6350e43-5a01-4116-9828-0344a5492533"
   },
   "outputs": [
    {
     "name": "stdout",
     "output_type": "stream",
     "text": [
      "Defaulting to user installation because normal site-packages is not writeable\n",
      "Requirement already satisfied: transformers==4.36.2 in /mnt/home/seyeon/.local/lib/python3.11/site-packages (4.36.2)\n",
      "Requirement already satisfied: filelock in /opt/software-current/2023.06/x86_64/amd/zen4/software/Python-bundle-PyPI/2023.06-GCCcore-12.3.0/lib/python3.11/site-packages (from transformers==4.36.2) (3.12.2)\n",
      "Requirement already satisfied: huggingface-hub<1.0,>=0.19.3 in /mnt/home/seyeon/.local/lib/python3.11/site-packages (from transformers==4.36.2) (0.30.1)\n",
      "Requirement already satisfied: numpy>=1.17 in /opt/software-current/2023.06/x86_64/generic/software/SciPy-bundle/2023.07-gfbf-2023a/lib/python3.11/site-packages (from transformers==4.36.2) (1.25.1)\n",
      "Requirement already satisfied: packaging>=20.0 in /opt/software-current/2023.06/x86_64/amd/zen4/software/Python-bundle-PyPI/2023.06-GCCcore-12.3.0/lib/python3.11/site-packages (from transformers==4.36.2) (23.1)\n",
      "Requirement already satisfied: pyyaml>=5.1 in /opt/software-current/2023.06/x86_64/generic/software/PyYAML/6.0-GCCcore-12.3.0/lib/python3.11/site-packages (from transformers==4.36.2) (6.0)\n",
      "Requirement already satisfied: regex!=2019.12.17 in /opt/software-current/2023.06/x86_64/amd/zen4/software/Python-bundle-PyPI/2023.06-GCCcore-12.3.0/lib/python3.11/site-packages (from transformers==4.36.2) (2023.6.3)\n",
      "Requirement already satisfied: requests in /opt/software-current/2023.06/x86_64/amd/zen4/software/Python-bundle-PyPI/2023.06-GCCcore-12.3.0/lib/python3.11/site-packages (from transformers==4.36.2) (2.31.0)\n",
      "Collecting tokenizers<0.19,>=0.14 (from transformers==4.36.2)\n",
      "  Using cached tokenizers-0.15.2-cp311-cp311-manylinux_2_17_x86_64.manylinux2014_x86_64.whl (3.6 MB)\n",
      "Requirement already satisfied: safetensors>=0.3.1 in /mnt/home/seyeon/.local/lib/python3.11/site-packages (from transformers==4.36.2) (0.5.3)\n",
      "Requirement already satisfied: tqdm>=4.27 in /mnt/home/seyeon/.local/lib/python3.11/site-packages (from transformers==4.36.2) (4.67.1)\n",
      "Requirement already satisfied: fsspec>=2023.5.0 in /opt/software-current/2023.06/x86_64/amd/zen4/software/Python-bundle-PyPI/2023.06-GCCcore-12.3.0/lib/python3.11/site-packages (from huggingface-hub<1.0,>=0.19.3->transformers==4.36.2) (2023.6.0)\n",
      "Requirement already satisfied: typing-extensions>=3.7.4.3 in /mnt/home/seyeon/.local/lib/python3.11/site-packages (from huggingface-hub<1.0,>=0.19.3->transformers==4.36.2) (4.13.0)\n",
      "Requirement already satisfied: charset-normalizer<4,>=2 in /opt/software-current/2023.06/x86_64/amd/zen4/software/Python-bundle-PyPI/2023.06-GCCcore-12.3.0/lib/python3.11/site-packages (from requests->transformers==4.36.2) (3.1.0)\n",
      "Requirement already satisfied: idna<4,>=2.5 in /opt/software-current/2023.06/x86_64/amd/zen4/software/Python-bundle-PyPI/2023.06-GCCcore-12.3.0/lib/python3.11/site-packages (from requests->transformers==4.36.2) (3.4)\n",
      "Requirement already satisfied: urllib3<3,>=1.21.1 in /opt/software-current/2023.06/x86_64/amd/zen4/software/Python-bundle-PyPI/2023.06-GCCcore-12.3.0/lib/python3.11/site-packages (from requests->transformers==4.36.2) (1.26.16)\n",
      "Requirement already satisfied: certifi>=2017.4.17 in /opt/software-current/2023.06/x86_64/amd/zen4/software/Python-bundle-PyPI/2023.06-GCCcore-12.3.0/lib/python3.11/site-packages (from requests->transformers==4.36.2) (2023.5.7)\n",
      "Installing collected packages: tokenizers\n",
      "  Attempting uninstall: tokenizers\n",
      "    Found existing installation: tokenizers 0.21.0\n",
      "    Uninstalling tokenizers-0.21.0:\n",
      "      Successfully uninstalled tokenizers-0.21.0\n",
      "Successfully installed tokenizers-0.15.2\n",
      "\n",
      "\u001b[1m[\u001b[0m\u001b[34;49mnotice\u001b[0m\u001b[1;39;49m]\u001b[0m\u001b[39;49m A new release of pip is available: \u001b[0m\u001b[31;49m23.1.2\u001b[0m\u001b[39;49m -> \u001b[0m\u001b[32;49m25.0.1\u001b[0m\n",
      "\u001b[1m[\u001b[0m\u001b[34;49mnotice\u001b[0m\u001b[1;39;49m]\u001b[0m\u001b[39;49m To update, run: \u001b[0m\u001b[32;49m/opt/software-current/2023.06/x86_64/generic/software/Python/3.11.3-GCCcore-12.3.0/bin/python -m pip install --upgrade pip\u001b[0m\n",
      "Note: you may need to restart the kernel to use updated packages.\n"
     ]
    }
   ],
   "source": [
    "pip install transformers==4.36.2\n"
   ]
  },
  {
   "cell_type": "code",
   "execution_count": 8,
   "metadata": {},
   "outputs": [],
   "source": [
    "# from pathlib import Path\n",
    "\n",
    "# # Directory where the HTML files are located\n",
    "# html_dir = Path(\"data/WebSight_test_data/images\")\n",
    "\n",
    "# # Select all *.html files that are named with 4-digit or more numbers\n",
    "# html_files = sorted(html_dir.glob(\"[0-9][0-9][0-9][0-9]*.png\"))\n",
    "\n",
    "# # Rename to 5-digit zero-padded format\n",
    "# for file in html_files:\n",
    "#     number_part = file.stem  # e.g., \"1000\"\n",
    "#     if number_part.isdigit():\n",
    "#         new_name = f\"{int(number_part):05}.png\"\n",
    "#         new_path = html_dir / new_name\n",
    "#         file.rename(new_path)\n",
    "#         print(f\"Renamed {file.name} → {new_name}\")\n"
   ]
  },
  {
   "cell_type": "markdown",
   "metadata": {
    "id": "pGk1Y2ea-3vS"
   },
   "source": [
    "## Import necessary libraries"
   ]
  },
  {
   "cell_type": "code",
   "execution_count": 1,
   "metadata": {
    "id": "9qulzbyd-1GC"
   },
   "outputs": [],
   "source": [
    "import os\n",
    "import zipfile\n",
    "from torch.utils.data import Dataset, DataLoader\n",
    "from torchvision import transforms\n",
    "from PIL import Image\n",
    "import re\n",
    "from transformers import Pix2StructForConditionalGeneration, AutoProcessor\n",
    "import torch\n",
    "from torch.nn import functional as F\n",
    "from pathlib import Path\n",
    "from nltk import edit_distance\n",
    "import numpy as np\n",
    "from tqdm import tqdm\n",
    "from nltk.translate.bleu_score import corpus_bleu, sentence_bleu, SmoothingFunction\n",
    "from torch.utils.data import random_split\n",
    "import random"
   ]
  },
  {
   "cell_type": "markdown",
   "metadata": {
    "id": "rZ3TJ2yzBAs0"
   },
   "source": [
    "## Define variables and parameters"
   ]
  },
  {
   "cell_type": "code",
   "execution_count": 2,
   "metadata": {
    "id": "Rrjr3uhaBDqp"
   },
   "outputs": [],
   "source": [
    "# FOLDER_CHECKPOINTS = 'checkpoints'\n",
    "DATASET_NAME = 'WebSight/'\n",
    "# ZIP_NAME = DATASET_NAME + '.zip'\n",
    "DESTINATION_FOLDER= 'data/'\n",
    "DATASET_FOLDER = DESTINATION_FOLDER + DATASET_NAME\n",
    "HTML_FILES_FOLDER = DATASET_FOLDER + \"html/\"\n",
    "OUTPUT_FOLDER = 'experiment/'\n",
    "\n",
    "EXPERIMENT_NAME = \"experiment\"\n",
    "\n",
    "MAX_SENTENCE_LEN = 4096\n",
    "\n",
    "CHUNK_LENGTH = 1024\n",
    "CONTEXT_OVERLAP_LENGTH = 256\n",
    "\n",
    "MAX_PATCHES = 1024\n",
    "\n",
    "DEBUG = False\n",
    "VERBOSE = True\n",
    "\n",
    "BATCH_SIZE = 10\n",
    "\n",
    "TRAIN_SET_PERCENTAGE = 0.88\n",
    "VALID_SET_PERCENTAGE = 0.02 # Use 20 for validation\n",
    "# TEST_SET_PERCENTAGE is 1 - TRAIN_SET_PERCENTAGE - VALID_SET_PERCENTAGE # Use 100 for test\n",
    "\n",
    "RANDOM_SEED = 123\n",
    "\n",
    "LOAD_FROM_CHECKPOINT = True\n",
    "LAST_CHECKPOINT_NAME = \"model/SynthBootstrap_epoch[34]_bleu[0.89].pth\"\n",
    "\n",
    "# WebSight_epoch[29]_bleu[0.67].pth"
   ]
  },
  {
   "cell_type": "code",
   "execution_count": 3,
   "metadata": {
    "id": "UVN0Pk4IuVYN"
   },
   "outputs": [],
   "source": [
    "DEVICE = torch.device('cuda' if torch.cuda.is_available() else 'cpu')"
   ]
  },
  {
   "cell_type": "code",
   "execution_count": 4,
   "metadata": {
    "colab": {
     "base_uri": "https://localhost:8080/",
     "height": 0
    },
    "id": "sKC06Ai1Xhcl",
    "outputId": "a53cf4e3-c519-4252-f39d-a3f9d3483bc4"
   },
   "outputs": [
    {
     "name": "stdout",
     "output_type": "stream",
     "text": [
      "MAX_N_CHUNKS_PER_SENTENCE 5\n"
     ]
    }
   ],
   "source": [
    "MAX_N_CHUNKS_PER_SENTENCE = 1 + (MAX_SENTENCE_LEN - CHUNK_LENGTH) // (CHUNK_LENGTH - CONTEXT_OVERLAP_LENGTH)\n",
    "print(\"MAX_N_CHUNKS_PER_SENTENCE\", MAX_N_CHUNKS_PER_SENTENCE)"
   ]
  },
  {
   "cell_type": "markdown",
   "metadata": {
    "id": "XIyXwQultNqy"
   },
   "source": [
    "## Load Model and Processor"
   ]
  },
  {
   "cell_type": "code",
   "execution_count": 5,
   "metadata": {
    "colab": {
     "base_uri": "https://localhost:8080/",
     "height": 437,
     "referenced_widgets": [
      "944354e9ff104d968d36d94ec2843912",
      "e41821ce824e4fd4996aaa67cfc401d5",
      "9eedc8d82a8f4c0da5f16ed4a9ec6037",
      "a824cc194ec3442fba70c58ca2c78a22",
      "2fe411ed3e1b4ae3a40932f52ed0c606",
      "177be060f5944eb1aa9d5f185f7c5b7c",
      "a4e19b7d5c7740c28258e835ae932c1e",
      "2c1e5230bda34f28aef4dcc2dd269be8",
      "04fc65acff014fd58f89f80c0cad1488",
      "47e863871a1c4b34a3b12ec9e79c4703",
      "c5c297da81924b8891d0212c475378f5",
      "569d1ff97dc647c5bbdfdac0569591a3",
      "4f9d3eb7bd9346a0acac60475ae4262a",
      "80b8d59323364bd49b7b3cead9e20ab1",
      "0c50c38f76024748ad652e1fbead1ada",
      "fd2f3f70cf7d45559602896ebc023613",
      "fded23690301496993dbd04a7b91d966",
      "5b13fad383d24f23bae0f0f64d7f3bd5",
      "ad9b61a1dd4d428fa432bfea04390ecb",
      "b2fd22cfb954428795517c983671da44",
      "91c1ce3b3ac342febe69fcf48b8e12ab",
      "47eed28c154b45b6b1766a0668576123",
      "63db5c58b1fd4e11aa600207d4cb3a05",
      "2d33cac45c47408a81da1dc589abc218",
      "4313b8cbc9d746e998d7248ad0f4d40c",
      "10c76e220dee4ad888102a41aea3d4a1",
      "54aa38566eec468d97b6d0a9332a2f62",
      "20b0aee3f9c74e16bb3431bd5a623b35",
      "94d170bdced74a62af9b4374c2ecab63",
      "a08e8e18c08b46dd9420a7f1f83617a2",
      "4e626a2362274557baf940d31e0c546a",
      "5bab3d5296ab44bfaefdf6c3bc6662e7",
      "7ced6451443b439891bc24680075becb",
      "eb2c905ba27d4bab88e9256cc874a729",
      "3be69f018ed04c5aa9fa888690ab5fd6",
      "efbd5cb2da6647b3b932b81522c01a50",
      "e4ae113595884e47b1363d9a75a6b383",
      "151383433fde400eb209908453c20323",
      "f37f5a1769894dee9ec944176dc7e12f",
      "6510aa0a4d99417786177a375bcbb7b2",
      "ae7031fda976463cbd6806cc2f0e30b4",
      "8b55c7fdac574cec94968b73b5ece7af",
      "b535f5945cb141629eae548501d408c7",
      "5bd1c5f0a50f4c4c96aea57b442045d9",
      "a6abfa1e6ad844b9941eba0de23085d0",
      "585e2c830fca442795188029829de55d",
      "8ad041ca50574e9da4298992201a6ad2",
      "376f0387eac544549f57eeb9378f634b",
      "d9c656ca849b41e0b4d1cb64df16dba7",
      "ab7461de907246e29cb628ff9cf5ae7f",
      "806853681d3f49128bf5ecb140f529c8",
      "23bb7f74774b4f09aaa5800d48a9a925",
      "7ab5c75f88324c2ca72ed158b0752464",
      "75eac898b5d34ba08f7532971947a9bf",
      "d22a4e91805547cba3d05a685c6c4a08",
      "834c2d1c6b644ae2bbaca2f41f050add",
      "d1a6cf5a0dcf43638d2c00debb35d8b0",
      "3b4b88be20694c4787b47ea12c076ef1",
      "c2d424b9929140ab856ffb1b5e20bd5a",
      "da87c820253849e99592238c95f5de70",
      "60b429c6afc940a6965c6c89b31f8f80",
      "1c2631fe845846138c55ddca24102996",
      "b7ca1619ec794891b416331df3b42c53",
      "674c91bd26bc47cba1bb4da34884527b",
      "004a4232b20c4ad9972625138ea4aca2",
      "db473cea720f46198d926f1c7c50ce13",
      "11f0c41665064faf84925dbc3cefda36",
      "4594c5c354714430a6c2f32f08423db1",
      "ffcbbca5551946f997d474b8269b1a0b",
      "f3ed99321a19412987928237e89a6fbb",
      "32ca9b1f0377406bba791f5c8a62b10f",
      "541a828dfa074e25bf7dbdc1ab7f3354",
      "1b817367d5824e86ab13cc81afda006c",
      "3dfe02d92c894899b9c9e8fe0150d58b",
      "d93f211d840146fe8a0ab5da1ba508e6",
      "93be7349b3244418978ca59e1938dc4d",
      "f36d56f8707c4aab80ead6cbcdd60377"
     ]
    },
    "id": "15QM1CZQtRWr",
    "outputId": "ce20bf39-004c-4089-e462-992b2e46208f"
   },
   "outputs": [],
   "source": [
    "repo_id = \"google/pix2struct-base\"\n",
    "\n",
    "processor = AutoProcessor.from_pretrained(repo_id)\n",
    "model = Pix2StructForConditionalGeneration.from_pretrained(repo_id, is_encoder_decoder=True)"
   ]
  },
  {
   "cell_type": "markdown",
   "metadata": {
    "id": "8vyJVirgV8VN"
   },
   "source": [
    "## Create Dataset class"
   ]
  },
  {
   "cell_type": "markdown",
   "metadata": {
    "id": "lK0eTFCl01vq"
   },
   "source": [
    "### Preprocessing functions"
   ]
  },
  {
   "cell_type": "code",
   "execution_count": 6,
   "metadata": {
    "id": "5cFoFlit1hGN"
   },
   "outputs": [],
   "source": [
    "def round_floats_in_text(text, precision=0):\n",
    "    # match float numbers with 2 or more decimal places in the text\n",
    "    pattern = r\"\\b\\d+\\.\\d{2,}\\b\"\n",
    "\n",
    "    def replace(match):\n",
    "        float_number = float(match.group())\n",
    "        return f\"{float_number:.{precision}f}\"\n",
    "\n",
    "    text = re.sub(pattern, replace, text)\n",
    "    return text"
   ]
  },
  {
   "cell_type": "code",
   "execution_count": 7,
   "metadata": {
    "id": "3DgqJJwSKsAj"
   },
   "outputs": [],
   "source": [
    "def remove_html_comments(text):\n",
    "    # match html comments\n",
    "    pattern = r\"<!--.*?-->\"\n",
    "\n",
    "    text = re.sub(pattern, '', text, flags=re.DOTALL)\n",
    "    return text"
   ]
  },
  {
   "cell_type": "code",
   "execution_count": 8,
   "metadata": {
    "id": "3Jj8_5IWClbz"
   },
   "outputs": [],
   "source": [
    "def preprocess_html_file(html_text):\n",
    "    text_cleaned = html_text.replace('\\n', ' ')\n",
    "    text_cleaned_without_multiple_spaces = re.sub(r'\\s+', ' ', text_cleaned)\n",
    "    text_without_comments = remove_html_comments(text_cleaned_without_multiple_spaces)\n",
    "    text_without_long_floats = round_floats_in_text(text_without_comments)\n",
    "    return text_without_long_floats"
   ]
  },
  {
   "cell_type": "markdown",
   "metadata": {
    "id": "pxls5fsNDAXL"
   },
   "source": [
    "### Find max sentence length and new unknown tokens"
   ]
  },
  {
   "cell_type": "code",
   "execution_count": 9,
   "metadata": {
    "id": "f1Q8943LSO-b"
   },
   "outputs": [],
   "source": [
    "# Find max length\n",
    "all_paths = os.listdir(HTML_FILES_FOLDER)"
   ]
  },
  {
   "cell_type": "code",
   "execution_count": 10,
   "metadata": {},
   "outputs": [
    {
     "name": "stdout",
     "output_type": "stream",
     "text": [
      "data/WebSight/html/\n"
     ]
    }
   ],
   "source": [
    "print(HTML_FILES_FOLDER)"
   ]
  },
  {
   "cell_type": "code",
   "execution_count": 11,
   "metadata": {
    "colab": {
     "base_uri": "https://localhost:8080/",
     "height": 0
    },
    "id": "ZqMid-_0CXay",
    "outputId": "3bc153e1-ac1c-4503-b098-6b0ef3ab9c91"
   },
   "outputs": [
    {
     "data": {
      "text/plain": [
       "1011"
      ]
     },
     "execution_count": 11,
     "metadata": {},
     "output_type": "execute_result"
    }
   ],
   "source": [
    "len(all_paths)"
   ]
  },
  {
   "cell_type": "code",
   "execution_count": 12,
   "metadata": {
    "id": "kbF0_mn7HRAH"
   },
   "outputs": [],
   "source": [
    "all_paths = all_paths[:10000]\n",
    "extra_paths = all_paths[1000:]"
   ]
  },
  {
   "cell_type": "code",
   "execution_count": 13,
   "metadata": {},
   "outputs": [
    {
     "data": {
      "text/plain": [
       "['00999.html',\n",
       " '01000.html',\n",
       " '01001.html',\n",
       " '01002.html',\n",
       " '01003.html',\n",
       " '01004.html',\n",
       " '01005.html',\n",
       " '01006.html',\n",
       " '01007.html',\n",
       " '01008.html',\n",
       " '01009.html']"
      ]
     },
     "execution_count": 13,
     "metadata": {},
     "output_type": "execute_result"
    }
   ],
   "source": [
    "extra_paths"
   ]
  },
  {
   "cell_type": "code",
   "execution_count": 14,
   "metadata": {
    "colab": {
     "base_uri": "https://localhost:8080/",
     "height": 0
    },
    "id": "YEhd7D32SZrf",
    "outputId": "1139f797-1e53-4c82-8270-c139d9a329a6"
   },
   "outputs": [
    {
     "name": "stderr",
     "output_type": "stream",
     "text": [
      "The new embeddings will be initialized from a multivariate normal distribution that has old embeddings' mean and covariance. As described in this article: https://nlp.stanford.edu/~johnhew/vocab-expansion.html. To disable this, use `mean_resizing=False`\n"
     ]
    },
    {
     "name": "stdout",
     "output_type": "stream",
     "text": [
      "Max sentence length = 1493\n",
      "Number of new tokens = 4525\n"
     ]
    },
    {
     "name": "stderr",
     "output_type": "stream",
     "text": [
      "The new lm_head weights will be initialized from a multivariate normal distribution that has old embeddings' mean and covariance. As described in this article: https://nlp.stanford.edu/~johnhew/vocab-expansion.html. To disable this, use `mean_resizing=False`\n"
     ]
    }
   ],
   "source": [
    "# # Find max length\n",
    "# max_length = 0\n",
    "\n",
    "# # Read text files and add new tokens to dictionary\n",
    "# tokens_to_add = set()\n",
    "\n",
    "# for html_file_path in all_paths:\n",
    "#     file_path = os.path.join(HTML_FILES_FOLDER, html_file_path)\n",
    "    \n",
    "#     if os.path.isdir(file_path):\n",
    "#         continue  # Skip directories\n",
    "    \n",
    "#     with open(file_path, \"r\") as reader:\n",
    "#         splitted_text = processor.tokenizer(preprocess_html_file(reader.read())).tokens()\n",
    "#         tokens_to_add = tokens_to_add.union(set(splitted_text))\n",
    "\n",
    "\n",
    "    \n",
    "#     # with open(HTML_FILES_FOLDER + html_file_path, \"r\") as reader:\n",
    "\n",
    "\n",
    "#     #     splitted_text = processor.tokenizer(preprocess_html_file(reader.read())).tokens()\n",
    "#     #     tokens_to_add = tokens_to_add.union(set(splitted_text))\n",
    "\n",
    "#     # Check if the current sentence has the largest number of tokens\n",
    "#     if len(splitted_text) > max_length:\n",
    "#         max_length = len(splitted_text)\n",
    "\n",
    "# print(f\"Max sentence length = {max_length}\")\n",
    "\n",
    "# newly_added_num = processor.tokenizer.add_tokens(list(tokens_to_add))\n",
    "# print(f\"Number of new tokens = {newly_added_num}\")\n",
    "\n",
    "# # Resize the model's token embeddings if there are new tokens\n",
    "# if newly_added_num > 0:\n",
    "#     model.decoder.resize_token_embeddings(len(processor.tokenizer))\n",
    "\n",
    "\n",
    "import chardet\n",
    "\n",
    "# Find max length\n",
    "max_length = 0\n",
    "tokens_to_add = set()\n",
    "\n",
    "for html_file_path in all_paths:\n",
    "    file_path = os.path.join(HTML_FILES_FOLDER, html_file_path)\n",
    "    \n",
    "    if os.path.isdir(file_path):\n",
    "        continue  # Skip directories\n",
    "    \n",
    "    # Detect encoding first\n",
    "    with open(file_path, 'rb') as raw_reader:\n",
    "        raw_data = raw_reader.read()\n",
    "        encoding = chardet.detect(raw_data)['encoding']\n",
    "    \n",
    "    if encoding is None:\n",
    "        print(f\"⚠️ Skipping file due to unknown encoding: {file_path}\")\n",
    "        continue\n",
    "\n",
    "    try:\n",
    "        decoded_text = raw_data.decode(encoding)\n",
    "    except Exception as e:\n",
    "        print(f\"⚠️ Skipping file {file_path} due to decoding error: {e}\")\n",
    "        continue\n",
    "\n",
    "    try:\n",
    "        splitted_text = processor.tokenizer(preprocess_html_file(decoded_text)).tokens()\n",
    "        tokens_to_add.update(splitted_text)\n",
    "\n",
    "        if len(splitted_text) > max_length:\n",
    "            max_length = len(splitted_text)\n",
    "    except Exception as e:\n",
    "        print(f\"⚠️ Tokenization error in {file_path}: {e}\")\n",
    "        continue\n",
    "\n",
    "print(f\"Max sentence length = {max_length}\")\n",
    "\n",
    "newly_added_num = processor.tokenizer.add_tokens(list(tokens_to_add))\n",
    "print(f\"Number of new tokens = {newly_added_num}\")\n",
    "\n",
    "if newly_added_num > 0:\n",
    "    model.decoder.resize_token_embeddings(len(processor.tokenizer))\n"
   ]
  },
  {
   "cell_type": "markdown",
   "metadata": {
    "id": "SfKTQ5aMPtfN"
   },
   "source": [
    "### Split files into training - validation - test sets"
   ]
  },
  {
   "cell_type": "code",
   "execution_count": 15,
   "metadata": {
    "colab": {
     "base_uri": "https://localhost:8080/",
     "height": 0
    },
    "id": "bK9CQSLZFAuA",
    "outputId": "3dd99e84-dede-4db3-f255-3d854801c2ed"
   },
   "outputs": [
    {
     "name": "stdout",
     "output_type": "stream",
     "text": [
      "TRAIN_SET size = 889\n",
      "VALID_SET size = 20\n",
      "TEST_SET size = 113\n"
     ]
    }
   ],
   "source": [
    "# random.seed(RANDOM_SEED)\n",
    "\n",
    "# # Use the same seed, so that parts remain the same\n",
    "# random.shuffle(all_paths)\n",
    "\n",
    "train_len = int(TRAIN_SET_PERCENTAGE * len(all_paths))\n",
    "valid_len = int(VALID_SET_PERCENTAGE * len(all_paths))\n",
    "\n",
    "train_paths = all_paths[:train_len]\n",
    "valid_paths = all_paths[train_len:train_len+valid_len]\n",
    "test_paths = all_paths[train_len+valid_len:] + extra_paths\n",
    "\n",
    "print(f\"TRAIN_SET size = {len(train_paths)}\")\n",
    "print(f\"VALID_SET size = {len(valid_paths)}\")\n",
    "print(f\"TEST_SET size = {len(test_paths)}\")"
   ]
  },
  {
   "cell_type": "code",
   "execution_count": 16,
   "metadata": {
    "id": "oMC2-OYYWB75"
   },
   "outputs": [],
   "source": [
    "class SythBootstrapDataset(Dataset):\n",
    "    def __init__(self, root_dir, transform, text_files_paths):\n",
    "\n",
    "        self.root_dir = root_dir\n",
    "        self.transform = transform\n",
    "        self.text_files_paths = text_files_paths\n",
    "\n",
    "        self.max_patches = MAX_PATCHES\n",
    "        self.max_length = MAX_SENTENCE_LEN\n",
    "        self.ignore_id = -100\n",
    "\n",
    "        self.encodings = []\n",
    "\n",
    "        for text_file in tqdm(text_files_paths):\n",
    "            image_file = text_file.replace('.html', '.png')\n",
    "\n",
    "            # Directly process the text files, and save them in the ram\n",
    "            # Do the same also for images, if there is enough space in memory\n",
    "            text_file_path = os.path.join(root_dir + \"html/\", text_file)\n",
    "            image_file_path = os.path.join(root_dir + \"images/\", image_file)\n",
    "            # print(image_file_path)\n",
    "            # Load image\n",
    "            image = Image.open(image_file_path).convert('RGB')\n",
    "\n",
    "            if DEBUG:\n",
    "                image.show()\n",
    "\n",
    "            if self.transform:\n",
    "                image = self.transform(image)\n",
    "\n",
    "            encoding = processor(images=image, max_patches=self.max_patches, return_tensors=\"pt\")\n",
    "            encoding = {k:v.squeeze() for k,v in encoding.items()}\n",
    "\n",
    "            # Load text\n",
    "            with open(text_file_path, 'r') as f:\n",
    "                text = f.read()\n",
    "                text_cleaned = preprocess_html_file(text)\n",
    "\n",
    "            if DEBUG:\n",
    "              print(\"text:\")\n",
    "              print(text)\n",
    "              print(\"\\n\\n\\ntext_cleaned:\")\n",
    "              print(text_cleaned)\n",
    "\n",
    "            input_ids = processor.tokenizer(\n",
    "                text_cleaned,\n",
    "                max_length=self.max_length,\n",
    "                padding=\"max_length\",\n",
    "                truncation=True,\n",
    "                return_tensors=\"pt\",\n",
    "            ).input_ids\n",
    "\n",
    "            labels = input_ids.squeeze().clone()\n",
    "            labels[labels == processor.tokenizer.pad_token_id] = self.ignore_id  # model doesn't need to predict pad token\n",
    "\n",
    "            encoding[\"labels\"] = labels.to(torch.int32)\n",
    "\n",
    "            # For each sample save directly the encoding of both text and image\n",
    "            self.encodings.append(encoding)\n",
    "\n",
    "    def __len__(self):\n",
    "        return len(self.encodings)\n",
    "\n",
    "    def __getitem__(self, idx):\n",
    "        return self.encodings[idx], self.text_files_paths[idx].replace(\".html\", \"\")"
   ]
  },
  {
   "cell_type": "code",
   "execution_count": 17,
   "metadata": {
    "colab": {
     "base_uri": "https://localhost:8080/",
     "height": 0
    },
    "id": "WulOgKwb1aNh",
    "outputId": "6682113e-8b13-4b32-fc94-612dcc2f0206"
   },
   "outputs": [
    {
     "name": "stderr",
     "output_type": "stream",
     "text": [
      "100%|██████████| 113/113 [00:13<00:00,  8.17it/s]\n"
     ]
    }
   ],
   "source": [
    "# Transformations for the image\n",
    "transform = transforms.Compose([\n",
    "    transforms.ToTensor(),  # convert PIL Image to PyTorch Tensor\n",
    "    transforms.Normalize(mean=[0.485, 0.456, 0.406], std=[0.229, 0.224, 0.225]),  # normalize for pretrained models\n",
    "])\n",
    "\n",
    "# Instantiate the CustomDataset\n",
    "test_dataset = SythBootstrapDataset(DATASET_FOLDER, transform, test_paths)\n",
    "\n",
    "# Use DataLoader for batching and shuffling\n",
    "test_dataloader = DataLoader(test_dataset, batch_size=BATCH_SIZE, shuffle=False)"
   ]
  },
  {
   "cell_type": "code",
   "execution_count": 18,
   "metadata": {
    "colab": {
     "base_uri": "https://localhost:8080/",
     "height": 0
    },
    "id": "RJbcAvt2eSvb",
    "outputId": "5b23bd13-5e51-4e05-bb71-fe562e6d6868"
   },
   "outputs": [
    {
     "name": "stdout",
     "output_type": "stream",
     "text": [
      "test_dataloader size = 12\n"
     ]
    }
   ],
   "source": [
    "print(f\"test_dataloader size = {len(test_dataloader)}\")"
   ]
  },
  {
   "cell_type": "code",
   "execution_count": 19,
   "metadata": {
    "id": "AY0iklFpwju3"
   },
   "outputs": [],
   "source": [
    "batch = next(iter(test_dataloader))"
   ]
  },
  {
   "cell_type": "code",
   "execution_count": 20,
   "metadata": {
    "id": "Np5m_Wn9wqXX"
   },
   "outputs": [],
   "source": [
    "encoding, text_file_paths = batch"
   ]
  },
  {
   "cell_type": "code",
   "execution_count": 21,
   "metadata": {
    "colab": {
     "base_uri": "https://localhost:8080/",
     "height": 0
    },
    "id": "rBcIM_U1wtXy",
    "outputId": "1b6b3985-ee75-4ec3-c769-f3a07f4387ff"
   },
   "outputs": [
    {
     "name": "stdout",
     "output_type": "stream",
     "text": [
      "3\n"
     ]
    }
   ],
   "source": [
    "print(len(encoding))"
   ]
  },
  {
   "cell_type": "code",
   "execution_count": 22,
   "metadata": {
    "colab": {
     "base_uri": "https://localhost:8080/",
     "height": 0
    },
    "id": "Hw__V87EwvWn",
    "outputId": "23581d48-6bb1-4621-de7d-e3d80da2959b"
   },
   "outputs": [
    {
     "name": "stdout",
     "output_type": "stream",
     "text": [
      "('00908', '00909', '00910', '00911', '00912', '00913', '00914', '00915', '00916', '00917')\n"
     ]
    }
   ],
   "source": [
    "print(text_file_paths)"
   ]
  },
  {
   "cell_type": "markdown",
   "metadata": {
    "id": "TEt-owxM1puj"
   },
   "source": [
    "### Main Testing function"
   ]
  },
  {
   "cell_type": "code",
   "execution_count": 23,
   "metadata": {
    "id": "P0SOkRu1n2_S"
   },
   "outputs": [],
   "source": [
    "START_TOKEN_ID = PAD_TOKEN_ID = processor.tokenizer.pad_token_id"
   ]
  },
  {
   "cell_type": "code",
   "execution_count": 24,
   "metadata": {
    "id": "Yp4NELlRFaXM"
   },
   "outputs": [],
   "source": [
    "def testing_loop(testing_dataloader, model, processor, config, description):\n",
    "    model.eval()\n",
    "    bleu_scores = []\n",
    "    ed_scores = []\n",
    "\n",
    "    with torch.no_grad():\n",
    "        test_loop = tqdm(enumerate(testing_dataloader), total=len(testing_dataloader), desc=description)\n",
    "        for i, batch in test_loop:\n",
    "            encoding, text_file_paths = batch\n",
    "            encoding = move_to_device(encoding)\n",
    "            labels, flattened_patches, attention_mask = encoding[\"labels\"], encoding[\"flattened_patches\"], encoding[\"attention_mask\"]\n",
    "\n",
    "            # Initialize total_outputs with zeros\n",
    "            total_outputs = None\n",
    "            context_from_last = None\n",
    "\n",
    "            # Initialize a mask to track which sentences are finished\n",
    "            finished_sentences_mask = torch.zeros(flattened_patches.size(0), dtype=torch.bool, device=flattened_patches.device)\n",
    "\n",
    "            for iteration in range(MAX_N_CHUNKS_PER_SENTENCE):\n",
    "\n",
    "                generate_args = {\n",
    "                    \"flattened_patches\": flattened_patches[~finished_sentences_mask],\n",
    "                    \"attention_mask\": attention_mask[~finished_sentences_mask],\n",
    "                    \"max_new_tokens\": CHUNK_LENGTH - (CONTEXT_OVERLAP_LENGTH if iteration else 0),\n",
    "                }\n",
    "\n",
    "                if iteration and context_from_last is not None:\n",
    "                    generate_args[\"decoder_input_ids\"] = context_from_last[~finished_sentences_mask]\n",
    "\n",
    "                outputs = model.generate(**generate_args)\n",
    "\n",
    "                # Remove context overlap only from the second iteration onwards\n",
    "                new_chunks = outputs if iteration == 0 else outputs[:, CONTEXT_OVERLAP_LENGTH:]\n",
    "\n",
    "                if iteration == 0:\n",
    "                    total_outputs = new_chunks\n",
    "                else:\n",
    "                    # Update total_outputs by concatenating new chunks\n",
    "                    new_chunks_with_padding_chunks = torch.full((flattened_patches.shape[0], new_chunks.shape[1]), PAD_TOKEN_ID, dtype=new_chunks.dtype, device=new_chunks.device)\n",
    "                    new_chunks_with_padding_chunks[~finished_sentences_mask] = new_chunks\n",
    "                    total_outputs = torch.cat((total_outputs, new_chunks_with_padding_chunks), dim=1)\n",
    "\n",
    "                # Update the finished_sentences_mask\n",
    "                finished_sentences_mask[~finished_sentences_mask] |= (outputs == processor.tokenizer.eos_token_id).any(dim=1)\n",
    "\n",
    "                # If all sentences are finished, exit the loop\n",
    "                if finished_sentences_mask.all():\n",
    "                    break\n",
    "\n",
    "                if outputs.shape[1] < CHUNK_LENGTH:\n",
    "                    print(\"ERROR: !! should have already exited because all sentences reached the end!!\")\n",
    "\n",
    "                # -1 because it will put in front a START_TOKEN automatically\n",
    "                context_from_last = total_outputs[:, -(CONTEXT_OVERLAP_LENGTH-1):]\n",
    "\n",
    "            predictions = processor.tokenizer.batch_decode(total_outputs, skip_special_tokens=True)\n",
    "\n",
    "            labels[labels == -100] = 0\n",
    "            answers = processor.tokenizer.batch_decode(labels, skip_special_tokens=True)\n",
    "\n",
    "            for pred, answer, text_file_path in zip(predictions, answers, text_file_paths):\n",
    "                with open(f\"{OUTPUT_FOLDER}/{text_file_path}_pred.txt\", \"w\") as f:\n",
    "                    print(pred, file=f)\n",
    "\n",
    "                with open(f\"{OUTPUT_FOLDER}/{text_file_path}_answer.txt\", \"w\") as f:\n",
    "                    print(answer, file=f)\n",
    "    return"
   ]
  },
  {
   "cell_type": "code",
   "execution_count": 25,
   "metadata": {
    "id": "F6Lme6odJJK8"
   },
   "outputs": [],
   "source": [
    "config = {\n",
    "          \"verbose\": VERBOSE,\n",
    "}"
   ]
  },
  {
   "cell_type": "code",
   "execution_count": 26,
   "metadata": {
    "id": "TJWtCoNBEkzT"
   },
   "outputs": [],
   "source": [
    "def validate_config(config):\n",
    "    # Check required keys\n",
    "    required_keys = [\n",
    "        \"verbose\"\n",
    "    ]\n",
    "    for key in required_keys:\n",
    "        if key not in config:\n",
    "            raise ValueError(f\"Key '{key}' must be present in the configuration.\")\n",
    "\n",
    "    # Check that values are in expected ranges\n",
    "    if not isinstance(config[\"verbose\"], bool):\n",
    "        raise ValueError(\"verbose must be a boolean value.\")"
   ]
  },
  {
   "cell_type": "code",
   "execution_count": 27,
   "metadata": {
    "colab": {
     "base_uri": "https://localhost:8080/",
     "height": 0
    },
    "id": "XtHfn35GEne6",
    "outputId": "004dc2f9-ca12-4c6e-e19c-deb3c836a4b3"
   },
   "outputs": [
    {
     "name": "stdout",
     "output_type": "stream",
     "text": [
      "{'verbose': True}\n"
     ]
    }
   ],
   "source": [
    "validate_config(config)\n",
    "print(config)"
   ]
  },
  {
   "cell_type": "markdown",
   "metadata": {
    "id": "fWSsn0vr1mV2"
   },
   "source": [
    "### Utility functions"
   ]
  },
  {
   "cell_type": "code",
   "execution_count": 28,
   "metadata": {
    "id": "mq6Y22hDqn3x"
   },
   "outputs": [],
   "source": [
    "def move_to_device(data):\n",
    "    if isinstance(data, (list,tuple)):\n",
    "        return [move_to_device(x) for x in data]\n",
    "    elif isinstance(data, dict):\n",
    "        return {k: move_to_device(v) for k, v in data.items()}\n",
    "    elif isinstance(data, torch.Tensor):\n",
    "        return data.to(DEVICE)\n",
    "    else:\n",
    "        return data"
   ]
  },
  {
   "cell_type": "markdown",
   "metadata": {
    "id": "OKtpIOwKuszL"
   },
   "source": [
    "## Test the model"
   ]
  },
  {
   "cell_type": "code",
   "execution_count": 31,
   "metadata": {
    "id": "onNwC7jpHuCR"
   },
   "outputs": [],
   "source": [
    "def test_model(config, processor, model):\n",
    "    print(\"Loading model from checkpoint: \", LAST_CHECKPOINT_NAME)\n",
    "    \n",
    "    checkpoint = torch.load(LAST_CHECKPOINT_NAME)\n",
    "    model.resize_token_embeddings(50244)  ##\n",
    "    model.load_state_dict(checkpoint['model_state_dict'])\n",
    "    model.to(DEVICE)\n",
    "    testing_loop(test_dataloader, model, processor, config, f\"Test loop\")"
   ]
  },
  {
   "cell_type": "code",
   "execution_count": 32,
   "metadata": {
    "colab": {
     "base_uri": "https://localhost:8080/",
     "height": 0
    },
    "id": "ptSlxvoAKA5c",
    "outputId": "ebc48537-a3de-4935-c70e-277288ae23d9"
   },
   "outputs": [
    {
     "name": "stdout",
     "output_type": "stream",
     "text": [
      "Loading model from checkpoint:  model/SynthBootstrap_epoch[34]_bleu[0.89].pth\n"
     ]
    },
    {
     "name": "stderr",
     "output_type": "stream",
     "text": [
      "Test loop: 100%|██████████| 12/12 [30:16<00:00, 151.39s/it]\n"
     ]
    }
   ],
   "source": [
    "test_model(config, processor, model)"
   ]
  },
  {
   "cell_type": "code",
   "execution_count": null,
   "metadata": {},
   "outputs": [],
   "source": []
  },
  {
   "cell_type": "code",
   "execution_count": null,
   "metadata": {},
   "outputs": [],
   "source": []
  },
  {
   "cell_type": "code",
   "execution_count": null,
   "metadata": {},
   "outputs": [],
   "source": []
  }
 ],
 "metadata": {
  "accelerator": "GPU",
  "colab": {
   "gpuType": "V100",
   "provenance": []
  },
  "kernelspec": {
   "display_name": "Python 3 (ipykernel)",
   "language": "python",
   "name": "python3"
  },
  "language_info": {
   "codemirror_mode": {
    "name": "ipython",
    "version": 3
   },
   "file_extension": ".py",
   "mimetype": "text/x-python",
   "name": "python",
   "nbconvert_exporter": "python",
   "pygments_lexer": "ipython3",
   "version": "3.11.3"
  },
  "widgets": {
   "application/vnd.jupyter.widget-state+json": {
    "004a4232b20c4ad9972625138ea4aca2": {
     "model_module": "@jupyter-widgets/base",
     "model_module_version": "1.2.0",
     "model_name": "LayoutModel",
     "state": {
      "_model_module": "@jupyter-widgets/base",
      "_model_module_version": "1.2.0",
      "_model_name": "LayoutModel",
      "_view_count": null,
      "_view_module": "@jupyter-widgets/base",
      "_view_module_version": "1.2.0",
      "_view_name": "LayoutView",
      "align_content": null,
      "align_items": null,
      "align_self": null,
      "border": null,
      "bottom": null,
      "display": null,
      "flex": null,
      "flex_flow": null,
      "grid_area": null,
      "grid_auto_columns": null,
      "grid_auto_flow": null,
      "grid_auto_rows": null,
      "grid_column": null,
      "grid_gap": null,
      "grid_row": null,
      "grid_template_areas": null,
      "grid_template_columns": null,
      "grid_template_rows": null,
      "height": null,
      "justify_content": null,
      "justify_items": null,
      "left": null,
      "margin": null,
      "max_height": null,
      "max_width": null,
      "min_height": null,
      "min_width": null,
      "object_fit": null,
      "object_position": null,
      "order": null,
      "overflow": null,
      "overflow_x": null,
      "overflow_y": null,
      "padding": null,
      "right": null,
      "top": null,
      "visibility": null,
      "width": null
     }
    },
    "04fc65acff014fd58f89f80c0cad1488": {
     "model_module": "@jupyter-widgets/controls",
     "model_module_version": "1.5.0",
     "model_name": "ProgressStyleModel",
     "state": {
      "_model_module": "@jupyter-widgets/controls",
      "_model_module_version": "1.5.0",
      "_model_name": "ProgressStyleModel",
      "_view_count": null,
      "_view_module": "@jupyter-widgets/base",
      "_view_module_version": "1.2.0",
      "_view_name": "StyleView",
      "bar_color": null,
      "description_width": ""
     }
    },
    "0c50c38f76024748ad652e1fbead1ada": {
     "model_module": "@jupyter-widgets/controls",
     "model_module_version": "1.5.0",
     "model_name": "HTMLModel",
     "state": {
      "_dom_classes": [],
      "_model_module": "@jupyter-widgets/controls",
      "_model_module_version": "1.5.0",
      "_model_name": "HTMLModel",
      "_view_count": null,
      "_view_module": "@jupyter-widgets/controls",
      "_view_module_version": "1.5.0",
      "_view_name": "HTMLView",
      "description": "",
      "description_tooltip": null,
      "layout": "IPY_MODEL_91c1ce3b3ac342febe69fcf48b8e12ab",
      "placeholder": "​",
      "style": "IPY_MODEL_47eed28c154b45b6b1766a0668576123",
      "value": " 2.61k/2.61k [00:00&lt;00:00, 163kB/s]"
     }
    },
    "10c76e220dee4ad888102a41aea3d4a1": {
     "model_module": "@jupyter-widgets/controls",
     "model_module_version": "1.5.0",
     "model_name": "HTMLModel",
     "state": {
      "_dom_classes": [],
      "_model_module": "@jupyter-widgets/controls",
      "_model_module_version": "1.5.0",
      "_model_name": "HTMLModel",
      "_view_count": null,
      "_view_module": "@jupyter-widgets/controls",
      "_view_module_version": "1.5.0",
      "_view_name": "HTMLView",
      "description": "",
      "description_tooltip": null,
      "layout": "IPY_MODEL_5bab3d5296ab44bfaefdf6c3bc6662e7",
      "placeholder": "​",
      "style": "IPY_MODEL_7ced6451443b439891bc24680075becb",
      "value": " 851k/851k [00:00&lt;00:00, 9.33MB/s]"
     }
    },
    "11f0c41665064faf84925dbc3cefda36": {
     "model_module": "@jupyter-widgets/controls",
     "model_module_version": "1.5.0",
     "model_name": "HBoxModel",
     "state": {
      "_dom_classes": [],
      "_model_module": "@jupyter-widgets/controls",
      "_model_module_version": "1.5.0",
      "_model_name": "HBoxModel",
      "_view_count": null,
      "_view_module": "@jupyter-widgets/controls",
      "_view_module_version": "1.5.0",
      "_view_name": "HBoxView",
      "box_style": "",
      "children": [
       "IPY_MODEL_4594c5c354714430a6c2f32f08423db1",
       "IPY_MODEL_ffcbbca5551946f997d474b8269b1a0b",
       "IPY_MODEL_f3ed99321a19412987928237e89a6fbb"
      ],
      "layout": "IPY_MODEL_32ca9b1f0377406bba791f5c8a62b10f"
     }
    },
    "151383433fde400eb209908453c20323": {
     "model_module": "@jupyter-widgets/base",
     "model_module_version": "1.2.0",
     "model_name": "LayoutModel",
     "state": {
      "_model_module": "@jupyter-widgets/base",
      "_model_module_version": "1.2.0",
      "_model_name": "LayoutModel",
      "_view_count": null,
      "_view_module": "@jupyter-widgets/base",
      "_view_module_version": "1.2.0",
      "_view_name": "LayoutView",
      "align_content": null,
      "align_items": null,
      "align_self": null,
      "border": null,
      "bottom": null,
      "display": null,
      "flex": null,
      "flex_flow": null,
      "grid_area": null,
      "grid_auto_columns": null,
      "grid_auto_flow": null,
      "grid_auto_rows": null,
      "grid_column": null,
      "grid_gap": null,
      "grid_row": null,
      "grid_template_areas": null,
      "grid_template_columns": null,
      "grid_template_rows": null,
      "height": null,
      "justify_content": null,
      "justify_items": null,
      "left": null,
      "margin": null,
      "max_height": null,
      "max_width": null,
      "min_height": null,
      "min_width": null,
      "object_fit": null,
      "object_position": null,
      "order": null,
      "overflow": null,
      "overflow_x": null,
      "overflow_y": null,
      "padding": null,
      "right": null,
      "top": null,
      "visibility": null,
      "width": null
     }
    },
    "177be060f5944eb1aa9d5f185f7c5b7c": {
     "model_module": "@jupyter-widgets/base",
     "model_module_version": "1.2.0",
     "model_name": "LayoutModel",
     "state": {
      "_model_module": "@jupyter-widgets/base",
      "_model_module_version": "1.2.0",
      "_model_name": "LayoutModel",
      "_view_count": null,
      "_view_module": "@jupyter-widgets/base",
      "_view_module_version": "1.2.0",
      "_view_name": "LayoutView",
      "align_content": null,
      "align_items": null,
      "align_self": null,
      "border": null,
      "bottom": null,
      "display": null,
      "flex": null,
      "flex_flow": null,
      "grid_area": null,
      "grid_auto_columns": null,
      "grid_auto_flow": null,
      "grid_auto_rows": null,
      "grid_column": null,
      "grid_gap": null,
      "grid_row": null,
      "grid_template_areas": null,
      "grid_template_columns": null,
      "grid_template_rows": null,
      "height": null,
      "justify_content": null,
      "justify_items": null,
      "left": null,
      "margin": null,
      "max_height": null,
      "max_width": null,
      "min_height": null,
      "min_width": null,
      "object_fit": null,
      "object_position": null,
      "order": null,
      "overflow": null,
      "overflow_x": null,
      "overflow_y": null,
      "padding": null,
      "right": null,
      "top": null,
      "visibility": null,
      "width": null
     }
    },
    "1b817367d5824e86ab13cc81afda006c": {
     "model_module": "@jupyter-widgets/controls",
     "model_module_version": "1.5.0",
     "model_name": "DescriptionStyleModel",
     "state": {
      "_model_module": "@jupyter-widgets/controls",
      "_model_module_version": "1.5.0",
      "_model_name": "DescriptionStyleModel",
      "_view_count": null,
      "_view_module": "@jupyter-widgets/base",
      "_view_module_version": "1.2.0",
      "_view_name": "StyleView",
      "description_width": ""
     }
    },
    "1c2631fe845846138c55ddca24102996": {
     "model_module": "@jupyter-widgets/controls",
     "model_module_version": "1.5.0",
     "model_name": "DescriptionStyleModel",
     "state": {
      "_model_module": "@jupyter-widgets/controls",
      "_model_module_version": "1.5.0",
      "_model_name": "DescriptionStyleModel",
      "_view_count": null,
      "_view_module": "@jupyter-widgets/base",
      "_view_module_version": "1.2.0",
      "_view_name": "StyleView",
      "description_width": ""
     }
    },
    "20b0aee3f9c74e16bb3431bd5a623b35": {
     "model_module": "@jupyter-widgets/base",
     "model_module_version": "1.2.0",
     "model_name": "LayoutModel",
     "state": {
      "_model_module": "@jupyter-widgets/base",
      "_model_module_version": "1.2.0",
      "_model_name": "LayoutModel",
      "_view_count": null,
      "_view_module": "@jupyter-widgets/base",
      "_view_module_version": "1.2.0",
      "_view_name": "LayoutView",
      "align_content": null,
      "align_items": null,
      "align_self": null,
      "border": null,
      "bottom": null,
      "display": null,
      "flex": null,
      "flex_flow": null,
      "grid_area": null,
      "grid_auto_columns": null,
      "grid_auto_flow": null,
      "grid_auto_rows": null,
      "grid_column": null,
      "grid_gap": null,
      "grid_row": null,
      "grid_template_areas": null,
      "grid_template_columns": null,
      "grid_template_rows": null,
      "height": null,
      "justify_content": null,
      "justify_items": null,
      "left": null,
      "margin": null,
      "max_height": null,
      "max_width": null,
      "min_height": null,
      "min_width": null,
      "object_fit": null,
      "object_position": null,
      "order": null,
      "overflow": null,
      "overflow_x": null,
      "overflow_y": null,
      "padding": null,
      "right": null,
      "top": null,
      "visibility": null,
      "width": null
     }
    },
    "23bb7f74774b4f09aaa5800d48a9a925": {
     "model_module": "@jupyter-widgets/base",
     "model_module_version": "1.2.0",
     "model_name": "LayoutModel",
     "state": {
      "_model_module": "@jupyter-widgets/base",
      "_model_module_version": "1.2.0",
      "_model_name": "LayoutModel",
      "_view_count": null,
      "_view_module": "@jupyter-widgets/base",
      "_view_module_version": "1.2.0",
      "_view_name": "LayoutView",
      "align_content": null,
      "align_items": null,
      "align_self": null,
      "border": null,
      "bottom": null,
      "display": null,
      "flex": null,
      "flex_flow": null,
      "grid_area": null,
      "grid_auto_columns": null,
      "grid_auto_flow": null,
      "grid_auto_rows": null,
      "grid_column": null,
      "grid_gap": null,
      "grid_row": null,
      "grid_template_areas": null,
      "grid_template_columns": null,
      "grid_template_rows": null,
      "height": null,
      "justify_content": null,
      "justify_items": null,
      "left": null,
      "margin": null,
      "max_height": null,
      "max_width": null,
      "min_height": null,
      "min_width": null,
      "object_fit": null,
      "object_position": null,
      "order": null,
      "overflow": null,
      "overflow_x": null,
      "overflow_y": null,
      "padding": null,
      "right": null,
      "top": null,
      "visibility": null,
      "width": null
     }
    },
    "2c1e5230bda34f28aef4dcc2dd269be8": {
     "model_module": "@jupyter-widgets/base",
     "model_module_version": "1.2.0",
     "model_name": "LayoutModel",
     "state": {
      "_model_module": "@jupyter-widgets/base",
      "_model_module_version": "1.2.0",
      "_model_name": "LayoutModel",
      "_view_count": null,
      "_view_module": "@jupyter-widgets/base",
      "_view_module_version": "1.2.0",
      "_view_name": "LayoutView",
      "align_content": null,
      "align_items": null,
      "align_self": null,
      "border": null,
      "bottom": null,
      "display": null,
      "flex": null,
      "flex_flow": null,
      "grid_area": null,
      "grid_auto_columns": null,
      "grid_auto_flow": null,
      "grid_auto_rows": null,
      "grid_column": null,
      "grid_gap": null,
      "grid_row": null,
      "grid_template_areas": null,
      "grid_template_columns": null,
      "grid_template_rows": null,
      "height": null,
      "justify_content": null,
      "justify_items": null,
      "left": null,
      "margin": null,
      "max_height": null,
      "max_width": null,
      "min_height": null,
      "min_width": null,
      "object_fit": null,
      "object_position": null,
      "order": null,
      "overflow": null,
      "overflow_x": null,
      "overflow_y": null,
      "padding": null,
      "right": null,
      "top": null,
      "visibility": null,
      "width": null
     }
    },
    "2d33cac45c47408a81da1dc589abc218": {
     "model_module": "@jupyter-widgets/controls",
     "model_module_version": "1.5.0",
     "model_name": "HTMLModel",
     "state": {
      "_dom_classes": [],
      "_model_module": "@jupyter-widgets/controls",
      "_model_module_version": "1.5.0",
      "_model_name": "HTMLModel",
      "_view_count": null,
      "_view_module": "@jupyter-widgets/controls",
      "_view_module_version": "1.5.0",
      "_view_name": "HTMLView",
      "description": "",
      "description_tooltip": null,
      "layout": "IPY_MODEL_20b0aee3f9c74e16bb3431bd5a623b35",
      "placeholder": "​",
      "style": "IPY_MODEL_94d170bdced74a62af9b4374c2ecab63",
      "value": "Downloading spiece.model: 100%"
     }
    },
    "2fe411ed3e1b4ae3a40932f52ed0c606": {
     "model_module": "@jupyter-widgets/base",
     "model_module_version": "1.2.0",
     "model_name": "LayoutModel",
     "state": {
      "_model_module": "@jupyter-widgets/base",
      "_model_module_version": "1.2.0",
      "_model_name": "LayoutModel",
      "_view_count": null,
      "_view_module": "@jupyter-widgets/base",
      "_view_module_version": "1.2.0",
      "_view_name": "LayoutView",
      "align_content": null,
      "align_items": null,
      "align_self": null,
      "border": null,
      "bottom": null,
      "display": null,
      "flex": null,
      "flex_flow": null,
      "grid_area": null,
      "grid_auto_columns": null,
      "grid_auto_flow": null,
      "grid_auto_rows": null,
      "grid_column": null,
      "grid_gap": null,
      "grid_row": null,
      "grid_template_areas": null,
      "grid_template_columns": null,
      "grid_template_rows": null,
      "height": null,
      "justify_content": null,
      "justify_items": null,
      "left": null,
      "margin": null,
      "max_height": null,
      "max_width": null,
      "min_height": null,
      "min_width": null,
      "object_fit": null,
      "object_position": null,
      "order": null,
      "overflow": null,
      "overflow_x": null,
      "overflow_y": null,
      "padding": null,
      "right": null,
      "top": null,
      "visibility": null,
      "width": null
     }
    },
    "32ca9b1f0377406bba791f5c8a62b10f": {
     "model_module": "@jupyter-widgets/base",
     "model_module_version": "1.2.0",
     "model_name": "LayoutModel",
     "state": {
      "_model_module": "@jupyter-widgets/base",
      "_model_module_version": "1.2.0",
      "_model_name": "LayoutModel",
      "_view_count": null,
      "_view_module": "@jupyter-widgets/base",
      "_view_module_version": "1.2.0",
      "_view_name": "LayoutView",
      "align_content": null,
      "align_items": null,
      "align_self": null,
      "border": null,
      "bottom": null,
      "display": null,
      "flex": null,
      "flex_flow": null,
      "grid_area": null,
      "grid_auto_columns": null,
      "grid_auto_flow": null,
      "grid_auto_rows": null,
      "grid_column": null,
      "grid_gap": null,
      "grid_row": null,
      "grid_template_areas": null,
      "grid_template_columns": null,
      "grid_template_rows": null,
      "height": null,
      "justify_content": null,
      "justify_items": null,
      "left": null,
      "margin": null,
      "max_height": null,
      "max_width": null,
      "min_height": null,
      "min_width": null,
      "object_fit": null,
      "object_position": null,
      "order": null,
      "overflow": null,
      "overflow_x": null,
      "overflow_y": null,
      "padding": null,
      "right": null,
      "top": null,
      "visibility": null,
      "width": null
     }
    },
    "376f0387eac544549f57eeb9378f634b": {
     "model_module": "@jupyter-widgets/controls",
     "model_module_version": "1.5.0",
     "model_name": "HTMLModel",
     "state": {
      "_dom_classes": [],
      "_model_module": "@jupyter-widgets/controls",
      "_model_module_version": "1.5.0",
      "_model_name": "HTMLModel",
      "_view_count": null,
      "_view_module": "@jupyter-widgets/controls",
      "_view_module_version": "1.5.0",
      "_view_name": "HTMLView",
      "description": "",
      "description_tooltip": null,
      "layout": "IPY_MODEL_75eac898b5d34ba08f7532971947a9bf",
      "placeholder": "​",
      "style": "IPY_MODEL_d22a4e91805547cba3d05a685c6c4a08",
      "value": " 2.20k/2.20k [00:00&lt;00:00, 176kB/s]"
     }
    },
    "3b4b88be20694c4787b47ea12c076ef1": {
     "model_module": "@jupyter-widgets/controls",
     "model_module_version": "1.5.0",
     "model_name": "FloatProgressModel",
     "state": {
      "_dom_classes": [],
      "_model_module": "@jupyter-widgets/controls",
      "_model_module_version": "1.5.0",
      "_model_name": "FloatProgressModel",
      "_view_count": null,
      "_view_module": "@jupyter-widgets/controls",
      "_view_module_version": "1.5.0",
      "_view_name": "ProgressView",
      "bar_style": "success",
      "description": "",
      "description_tooltip": null,
      "layout": "IPY_MODEL_b7ca1619ec794891b416331df3b42c53",
      "max": 4918,
      "min": 0,
      "orientation": "horizontal",
      "style": "IPY_MODEL_674c91bd26bc47cba1bb4da34884527b",
      "value": 4918
     }
    },
    "3be69f018ed04c5aa9fa888690ab5fd6": {
     "model_module": "@jupyter-widgets/controls",
     "model_module_version": "1.5.0",
     "model_name": "HTMLModel",
     "state": {
      "_dom_classes": [],
      "_model_module": "@jupyter-widgets/controls",
      "_model_module_version": "1.5.0",
      "_model_name": "HTMLModel",
      "_view_count": null,
      "_view_module": "@jupyter-widgets/controls",
      "_view_module_version": "1.5.0",
      "_view_name": "HTMLView",
      "description": "",
      "description_tooltip": null,
      "layout": "IPY_MODEL_f37f5a1769894dee9ec944176dc7e12f",
      "placeholder": "​",
      "style": "IPY_MODEL_6510aa0a4d99417786177a375bcbb7b2",
      "value": "Downloading (…)/main/tokenizer.json: 100%"
     }
    },
    "3dfe02d92c894899b9c9e8fe0150d58b": {
     "model_module": "@jupyter-widgets/base",
     "model_module_version": "1.2.0",
     "model_name": "LayoutModel",
     "state": {
      "_model_module": "@jupyter-widgets/base",
      "_model_module_version": "1.2.0",
      "_model_name": "LayoutModel",
      "_view_count": null,
      "_view_module": "@jupyter-widgets/base",
      "_view_module_version": "1.2.0",
      "_view_name": "LayoutView",
      "align_content": null,
      "align_items": null,
      "align_self": null,
      "border": null,
      "bottom": null,
      "display": null,
      "flex": null,
      "flex_flow": null,
      "grid_area": null,
      "grid_auto_columns": null,
      "grid_auto_flow": null,
      "grid_auto_rows": null,
      "grid_column": null,
      "grid_gap": null,
      "grid_row": null,
      "grid_template_areas": null,
      "grid_template_columns": null,
      "grid_template_rows": null,
      "height": null,
      "justify_content": null,
      "justify_items": null,
      "left": null,
      "margin": null,
      "max_height": null,
      "max_width": null,
      "min_height": null,
      "min_width": null,
      "object_fit": null,
      "object_position": null,
      "order": null,
      "overflow": null,
      "overflow_x": null,
      "overflow_y": null,
      "padding": null,
      "right": null,
      "top": null,
      "visibility": null,
      "width": null
     }
    },
    "4313b8cbc9d746e998d7248ad0f4d40c": {
     "model_module": "@jupyter-widgets/controls",
     "model_module_version": "1.5.0",
     "model_name": "FloatProgressModel",
     "state": {
      "_dom_classes": [],
      "_model_module": "@jupyter-widgets/controls",
      "_model_module_version": "1.5.0",
      "_model_name": "FloatProgressModel",
      "_view_count": null,
      "_view_module": "@jupyter-widgets/controls",
      "_view_module_version": "1.5.0",
      "_view_name": "ProgressView",
      "bar_style": "success",
      "description": "",
      "description_tooltip": null,
      "layout": "IPY_MODEL_a08e8e18c08b46dd9420a7f1f83617a2",
      "max": 851388,
      "min": 0,
      "orientation": "horizontal",
      "style": "IPY_MODEL_4e626a2362274557baf940d31e0c546a",
      "value": 851388
     }
    },
    "4594c5c354714430a6c2f32f08423db1": {
     "model_module": "@jupyter-widgets/controls",
     "model_module_version": "1.5.0",
     "model_name": "HTMLModel",
     "state": {
      "_dom_classes": [],
      "_model_module": "@jupyter-widgets/controls",
      "_model_module_version": "1.5.0",
      "_model_name": "HTMLModel",
      "_view_count": null,
      "_view_module": "@jupyter-widgets/controls",
      "_view_module_version": "1.5.0",
      "_view_name": "HTMLView",
      "description": "",
      "description_tooltip": null,
      "layout": "IPY_MODEL_541a828dfa074e25bf7dbdc1ab7f3354",
      "placeholder": "​",
      "style": "IPY_MODEL_1b817367d5824e86ab13cc81afda006c",
      "value": "Downloading pytorch_model.bin: 100%"
     }
    },
    "47e863871a1c4b34a3b12ec9e79c4703": {
     "model_module": "@jupyter-widgets/base",
     "model_module_version": "1.2.0",
     "model_name": "LayoutModel",
     "state": {
      "_model_module": "@jupyter-widgets/base",
      "_model_module_version": "1.2.0",
      "_model_name": "LayoutModel",
      "_view_count": null,
      "_view_module": "@jupyter-widgets/base",
      "_view_module_version": "1.2.0",
      "_view_name": "LayoutView",
      "align_content": null,
      "align_items": null,
      "align_self": null,
      "border": null,
      "bottom": null,
      "display": null,
      "flex": null,
      "flex_flow": null,
      "grid_area": null,
      "grid_auto_columns": null,
      "grid_auto_flow": null,
      "grid_auto_rows": null,
      "grid_column": null,
      "grid_gap": null,
      "grid_row": null,
      "grid_template_areas": null,
      "grid_template_columns": null,
      "grid_template_rows": null,
      "height": null,
      "justify_content": null,
      "justify_items": null,
      "left": null,
      "margin": null,
      "max_height": null,
      "max_width": null,
      "min_height": null,
      "min_width": null,
      "object_fit": null,
      "object_position": null,
      "order": null,
      "overflow": null,
      "overflow_x": null,
      "overflow_y": null,
      "padding": null,
      "right": null,
      "top": null,
      "visibility": null,
      "width": null
     }
    },
    "47eed28c154b45b6b1766a0668576123": {
     "model_module": "@jupyter-widgets/controls",
     "model_module_version": "1.5.0",
     "model_name": "DescriptionStyleModel",
     "state": {
      "_model_module": "@jupyter-widgets/controls",
      "_model_module_version": "1.5.0",
      "_model_name": "DescriptionStyleModel",
      "_view_count": null,
      "_view_module": "@jupyter-widgets/base",
      "_view_module_version": "1.2.0",
      "_view_name": "StyleView",
      "description_width": ""
     }
    },
    "4e626a2362274557baf940d31e0c546a": {
     "model_module": "@jupyter-widgets/controls",
     "model_module_version": "1.5.0",
     "model_name": "ProgressStyleModel",
     "state": {
      "_model_module": "@jupyter-widgets/controls",
      "_model_module_version": "1.5.0",
      "_model_name": "ProgressStyleModel",
      "_view_count": null,
      "_view_module": "@jupyter-widgets/base",
      "_view_module_version": "1.2.0",
      "_view_name": "StyleView",
      "bar_color": null,
      "description_width": ""
     }
    },
    "4f9d3eb7bd9346a0acac60475ae4262a": {
     "model_module": "@jupyter-widgets/controls",
     "model_module_version": "1.5.0",
     "model_name": "HTMLModel",
     "state": {
      "_dom_classes": [],
      "_model_module": "@jupyter-widgets/controls",
      "_model_module_version": "1.5.0",
      "_model_name": "HTMLModel",
      "_view_count": null,
      "_view_module": "@jupyter-widgets/controls",
      "_view_module_version": "1.5.0",
      "_view_name": "HTMLView",
      "description": "",
      "description_tooltip": null,
      "layout": "IPY_MODEL_fded23690301496993dbd04a7b91d966",
      "placeholder": "​",
      "style": "IPY_MODEL_5b13fad383d24f23bae0f0f64d7f3bd5",
      "value": "Downloading (…)okenizer_config.json: 100%"
     }
    },
    "541a828dfa074e25bf7dbdc1ab7f3354": {
     "model_module": "@jupyter-widgets/base",
     "model_module_version": "1.2.0",
     "model_name": "LayoutModel",
     "state": {
      "_model_module": "@jupyter-widgets/base",
      "_model_module_version": "1.2.0",
      "_model_name": "LayoutModel",
      "_view_count": null,
      "_view_module": "@jupyter-widgets/base",
      "_view_module_version": "1.2.0",
      "_view_name": "LayoutView",
      "align_content": null,
      "align_items": null,
      "align_self": null,
      "border": null,
      "bottom": null,
      "display": null,
      "flex": null,
      "flex_flow": null,
      "grid_area": null,
      "grid_auto_columns": null,
      "grid_auto_flow": null,
      "grid_auto_rows": null,
      "grid_column": null,
      "grid_gap": null,
      "grid_row": null,
      "grid_template_areas": null,
      "grid_template_columns": null,
      "grid_template_rows": null,
      "height": null,
      "justify_content": null,
      "justify_items": null,
      "left": null,
      "margin": null,
      "max_height": null,
      "max_width": null,
      "min_height": null,
      "min_width": null,
      "object_fit": null,
      "object_position": null,
      "order": null,
      "overflow": null,
      "overflow_x": null,
      "overflow_y": null,
      "padding": null,
      "right": null,
      "top": null,
      "visibility": null,
      "width": null
     }
    },
    "54aa38566eec468d97b6d0a9332a2f62": {
     "model_module": "@jupyter-widgets/base",
     "model_module_version": "1.2.0",
     "model_name": "LayoutModel",
     "state": {
      "_model_module": "@jupyter-widgets/base",
      "_model_module_version": "1.2.0",
      "_model_name": "LayoutModel",
      "_view_count": null,
      "_view_module": "@jupyter-widgets/base",
      "_view_module_version": "1.2.0",
      "_view_name": "LayoutView",
      "align_content": null,
      "align_items": null,
      "align_self": null,
      "border": null,
      "bottom": null,
      "display": null,
      "flex": null,
      "flex_flow": null,
      "grid_area": null,
      "grid_auto_columns": null,
      "grid_auto_flow": null,
      "grid_auto_rows": null,
      "grid_column": null,
      "grid_gap": null,
      "grid_row": null,
      "grid_template_areas": null,
      "grid_template_columns": null,
      "grid_template_rows": null,
      "height": null,
      "justify_content": null,
      "justify_items": null,
      "left": null,
      "margin": null,
      "max_height": null,
      "max_width": null,
      "min_height": null,
      "min_width": null,
      "object_fit": null,
      "object_position": null,
      "order": null,
      "overflow": null,
      "overflow_x": null,
      "overflow_y": null,
      "padding": null,
      "right": null,
      "top": null,
      "visibility": null,
      "width": null
     }
    },
    "569d1ff97dc647c5bbdfdac0569591a3": {
     "model_module": "@jupyter-widgets/controls",
     "model_module_version": "1.5.0",
     "model_name": "HBoxModel",
     "state": {
      "_dom_classes": [],
      "_model_module": "@jupyter-widgets/controls",
      "_model_module_version": "1.5.0",
      "_model_name": "HBoxModel",
      "_view_count": null,
      "_view_module": "@jupyter-widgets/controls",
      "_view_module_version": "1.5.0",
      "_view_name": "HBoxView",
      "box_style": "",
      "children": [
       "IPY_MODEL_4f9d3eb7bd9346a0acac60475ae4262a",
       "IPY_MODEL_80b8d59323364bd49b7b3cead9e20ab1",
       "IPY_MODEL_0c50c38f76024748ad652e1fbead1ada"
      ],
      "layout": "IPY_MODEL_fd2f3f70cf7d45559602896ebc023613"
     }
    },
    "585e2c830fca442795188029829de55d": {
     "model_module": "@jupyter-widgets/controls",
     "model_module_version": "1.5.0",
     "model_name": "HTMLModel",
     "state": {
      "_dom_classes": [],
      "_model_module": "@jupyter-widgets/controls",
      "_model_module_version": "1.5.0",
      "_model_name": "HTMLModel",
      "_view_count": null,
      "_view_module": "@jupyter-widgets/controls",
      "_view_module_version": "1.5.0",
      "_view_name": "HTMLView",
      "description": "",
      "description_tooltip": null,
      "layout": "IPY_MODEL_ab7461de907246e29cb628ff9cf5ae7f",
      "placeholder": "​",
      "style": "IPY_MODEL_806853681d3f49128bf5ecb140f529c8",
      "value": "Downloading (…)cial_tokens_map.json: 100%"
     }
    },
    "5b13fad383d24f23bae0f0f64d7f3bd5": {
     "model_module": "@jupyter-widgets/controls",
     "model_module_version": "1.5.0",
     "model_name": "DescriptionStyleModel",
     "state": {
      "_model_module": "@jupyter-widgets/controls",
      "_model_module_version": "1.5.0",
      "_model_name": "DescriptionStyleModel",
      "_view_count": null,
      "_view_module": "@jupyter-widgets/base",
      "_view_module_version": "1.2.0",
      "_view_name": "StyleView",
      "description_width": ""
     }
    },
    "5bab3d5296ab44bfaefdf6c3bc6662e7": {
     "model_module": "@jupyter-widgets/base",
     "model_module_version": "1.2.0",
     "model_name": "LayoutModel",
     "state": {
      "_model_module": "@jupyter-widgets/base",
      "_model_module_version": "1.2.0",
      "_model_name": "LayoutModel",
      "_view_count": null,
      "_view_module": "@jupyter-widgets/base",
      "_view_module_version": "1.2.0",
      "_view_name": "LayoutView",
      "align_content": null,
      "align_items": null,
      "align_self": null,
      "border": null,
      "bottom": null,
      "display": null,
      "flex": null,
      "flex_flow": null,
      "grid_area": null,
      "grid_auto_columns": null,
      "grid_auto_flow": null,
      "grid_auto_rows": null,
      "grid_column": null,
      "grid_gap": null,
      "grid_row": null,
      "grid_template_areas": null,
      "grid_template_columns": null,
      "grid_template_rows": null,
      "height": null,
      "justify_content": null,
      "justify_items": null,
      "left": null,
      "margin": null,
      "max_height": null,
      "max_width": null,
      "min_height": null,
      "min_width": null,
      "object_fit": null,
      "object_position": null,
      "order": null,
      "overflow": null,
      "overflow_x": null,
      "overflow_y": null,
      "padding": null,
      "right": null,
      "top": null,
      "visibility": null,
      "width": null
     }
    },
    "5bd1c5f0a50f4c4c96aea57b442045d9": {
     "model_module": "@jupyter-widgets/controls",
     "model_module_version": "1.5.0",
     "model_name": "DescriptionStyleModel",
     "state": {
      "_model_module": "@jupyter-widgets/controls",
      "_model_module_version": "1.5.0",
      "_model_name": "DescriptionStyleModel",
      "_view_count": null,
      "_view_module": "@jupyter-widgets/base",
      "_view_module_version": "1.2.0",
      "_view_name": "StyleView",
      "description_width": ""
     }
    },
    "60b429c6afc940a6965c6c89b31f8f80": {
     "model_module": "@jupyter-widgets/base",
     "model_module_version": "1.2.0",
     "model_name": "LayoutModel",
     "state": {
      "_model_module": "@jupyter-widgets/base",
      "_model_module_version": "1.2.0",
      "_model_name": "LayoutModel",
      "_view_count": null,
      "_view_module": "@jupyter-widgets/base",
      "_view_module_version": "1.2.0",
      "_view_name": "LayoutView",
      "align_content": null,
      "align_items": null,
      "align_self": null,
      "border": null,
      "bottom": null,
      "display": null,
      "flex": null,
      "flex_flow": null,
      "grid_area": null,
      "grid_auto_columns": null,
      "grid_auto_flow": null,
      "grid_auto_rows": null,
      "grid_column": null,
      "grid_gap": null,
      "grid_row": null,
      "grid_template_areas": null,
      "grid_template_columns": null,
      "grid_template_rows": null,
      "height": null,
      "justify_content": null,
      "justify_items": null,
      "left": null,
      "margin": null,
      "max_height": null,
      "max_width": null,
      "min_height": null,
      "min_width": null,
      "object_fit": null,
      "object_position": null,
      "order": null,
      "overflow": null,
      "overflow_x": null,
      "overflow_y": null,
      "padding": null,
      "right": null,
      "top": null,
      "visibility": null,
      "width": null
     }
    },
    "63db5c58b1fd4e11aa600207d4cb3a05": {
     "model_module": "@jupyter-widgets/controls",
     "model_module_version": "1.5.0",
     "model_name": "HBoxModel",
     "state": {
      "_dom_classes": [],
      "_model_module": "@jupyter-widgets/controls",
      "_model_module_version": "1.5.0",
      "_model_name": "HBoxModel",
      "_view_count": null,
      "_view_module": "@jupyter-widgets/controls",
      "_view_module_version": "1.5.0",
      "_view_name": "HBoxView",
      "box_style": "",
      "children": [
       "IPY_MODEL_2d33cac45c47408a81da1dc589abc218",
       "IPY_MODEL_4313b8cbc9d746e998d7248ad0f4d40c",
       "IPY_MODEL_10c76e220dee4ad888102a41aea3d4a1"
      ],
      "layout": "IPY_MODEL_54aa38566eec468d97b6d0a9332a2f62"
     }
    },
    "6510aa0a4d99417786177a375bcbb7b2": {
     "model_module": "@jupyter-widgets/controls",
     "model_module_version": "1.5.0",
     "model_name": "DescriptionStyleModel",
     "state": {
      "_model_module": "@jupyter-widgets/controls",
      "_model_module_version": "1.5.0",
      "_model_name": "DescriptionStyleModel",
      "_view_count": null,
      "_view_module": "@jupyter-widgets/base",
      "_view_module_version": "1.2.0",
      "_view_name": "StyleView",
      "description_width": ""
     }
    },
    "674c91bd26bc47cba1bb4da34884527b": {
     "model_module": "@jupyter-widgets/controls",
     "model_module_version": "1.5.0",
     "model_name": "ProgressStyleModel",
     "state": {
      "_model_module": "@jupyter-widgets/controls",
      "_model_module_version": "1.5.0",
      "_model_name": "ProgressStyleModel",
      "_view_count": null,
      "_view_module": "@jupyter-widgets/base",
      "_view_module_version": "1.2.0",
      "_view_name": "StyleView",
      "bar_color": null,
      "description_width": ""
     }
    },
    "75eac898b5d34ba08f7532971947a9bf": {
     "model_module": "@jupyter-widgets/base",
     "model_module_version": "1.2.0",
     "model_name": "LayoutModel",
     "state": {
      "_model_module": "@jupyter-widgets/base",
      "_model_module_version": "1.2.0",
      "_model_name": "LayoutModel",
      "_view_count": null,
      "_view_module": "@jupyter-widgets/base",
      "_view_module_version": "1.2.0",
      "_view_name": "LayoutView",
      "align_content": null,
      "align_items": null,
      "align_self": null,
      "border": null,
      "bottom": null,
      "display": null,
      "flex": null,
      "flex_flow": null,
      "grid_area": null,
      "grid_auto_columns": null,
      "grid_auto_flow": null,
      "grid_auto_rows": null,
      "grid_column": null,
      "grid_gap": null,
      "grid_row": null,
      "grid_template_areas": null,
      "grid_template_columns": null,
      "grid_template_rows": null,
      "height": null,
      "justify_content": null,
      "justify_items": null,
      "left": null,
      "margin": null,
      "max_height": null,
      "max_width": null,
      "min_height": null,
      "min_width": null,
      "object_fit": null,
      "object_position": null,
      "order": null,
      "overflow": null,
      "overflow_x": null,
      "overflow_y": null,
      "padding": null,
      "right": null,
      "top": null,
      "visibility": null,
      "width": null
     }
    },
    "7ab5c75f88324c2ca72ed158b0752464": {
     "model_module": "@jupyter-widgets/controls",
     "model_module_version": "1.5.0",
     "model_name": "ProgressStyleModel",
     "state": {
      "_model_module": "@jupyter-widgets/controls",
      "_model_module_version": "1.5.0",
      "_model_name": "ProgressStyleModel",
      "_view_count": null,
      "_view_module": "@jupyter-widgets/base",
      "_view_module_version": "1.2.0",
      "_view_name": "StyleView",
      "bar_color": null,
      "description_width": ""
     }
    },
    "7ced6451443b439891bc24680075becb": {
     "model_module": "@jupyter-widgets/controls",
     "model_module_version": "1.5.0",
     "model_name": "DescriptionStyleModel",
     "state": {
      "_model_module": "@jupyter-widgets/controls",
      "_model_module_version": "1.5.0",
      "_model_name": "DescriptionStyleModel",
      "_view_count": null,
      "_view_module": "@jupyter-widgets/base",
      "_view_module_version": "1.2.0",
      "_view_name": "StyleView",
      "description_width": ""
     }
    },
    "806853681d3f49128bf5ecb140f529c8": {
     "model_module": "@jupyter-widgets/controls",
     "model_module_version": "1.5.0",
     "model_name": "DescriptionStyleModel",
     "state": {
      "_model_module": "@jupyter-widgets/controls",
      "_model_module_version": "1.5.0",
      "_model_name": "DescriptionStyleModel",
      "_view_count": null,
      "_view_module": "@jupyter-widgets/base",
      "_view_module_version": "1.2.0",
      "_view_name": "StyleView",
      "description_width": ""
     }
    },
    "80b8d59323364bd49b7b3cead9e20ab1": {
     "model_module": "@jupyter-widgets/controls",
     "model_module_version": "1.5.0",
     "model_name": "FloatProgressModel",
     "state": {
      "_dom_classes": [],
      "_model_module": "@jupyter-widgets/controls",
      "_model_module_version": "1.5.0",
      "_model_name": "FloatProgressModel",
      "_view_count": null,
      "_view_module": "@jupyter-widgets/controls",
      "_view_module_version": "1.5.0",
      "_view_name": "ProgressView",
      "bar_style": "success",
      "description": "",
      "description_tooltip": null,
      "layout": "IPY_MODEL_ad9b61a1dd4d428fa432bfea04390ecb",
      "max": 2613,
      "min": 0,
      "orientation": "horizontal",
      "style": "IPY_MODEL_b2fd22cfb954428795517c983671da44",
      "value": 2613
     }
    },
    "834c2d1c6b644ae2bbaca2f41f050add": {
     "model_module": "@jupyter-widgets/controls",
     "model_module_version": "1.5.0",
     "model_name": "HBoxModel",
     "state": {
      "_dom_classes": [],
      "_model_module": "@jupyter-widgets/controls",
      "_model_module_version": "1.5.0",
      "_model_name": "HBoxModel",
      "_view_count": null,
      "_view_module": "@jupyter-widgets/controls",
      "_view_module_version": "1.5.0",
      "_view_name": "HBoxView",
      "box_style": "",
      "children": [
       "IPY_MODEL_d1a6cf5a0dcf43638d2c00debb35d8b0",
       "IPY_MODEL_3b4b88be20694c4787b47ea12c076ef1",
       "IPY_MODEL_c2d424b9929140ab856ffb1b5e20bd5a"
      ],
      "layout": "IPY_MODEL_da87c820253849e99592238c95f5de70"
     }
    },
    "8ad041ca50574e9da4298992201a6ad2": {
     "model_module": "@jupyter-widgets/controls",
     "model_module_version": "1.5.0",
     "model_name": "FloatProgressModel",
     "state": {
      "_dom_classes": [],
      "_model_module": "@jupyter-widgets/controls",
      "_model_module_version": "1.5.0",
      "_model_name": "FloatProgressModel",
      "_view_count": null,
      "_view_module": "@jupyter-widgets/controls",
      "_view_module_version": "1.5.0",
      "_view_name": "ProgressView",
      "bar_style": "success",
      "description": "",
      "description_tooltip": null,
      "layout": "IPY_MODEL_23bb7f74774b4f09aaa5800d48a9a925",
      "max": 2201,
      "min": 0,
      "orientation": "horizontal",
      "style": "IPY_MODEL_7ab5c75f88324c2ca72ed158b0752464",
      "value": 2201
     }
    },
    "8b55c7fdac574cec94968b73b5ece7af": {
     "model_module": "@jupyter-widgets/controls",
     "model_module_version": "1.5.0",
     "model_name": "ProgressStyleModel",
     "state": {
      "_model_module": "@jupyter-widgets/controls",
      "_model_module_version": "1.5.0",
      "_model_name": "ProgressStyleModel",
      "_view_count": null,
      "_view_module": "@jupyter-widgets/base",
      "_view_module_version": "1.2.0",
      "_view_name": "StyleView",
      "bar_color": null,
      "description_width": ""
     }
    },
    "91c1ce3b3ac342febe69fcf48b8e12ab": {
     "model_module": "@jupyter-widgets/base",
     "model_module_version": "1.2.0",
     "model_name": "LayoutModel",
     "state": {
      "_model_module": "@jupyter-widgets/base",
      "_model_module_version": "1.2.0",
      "_model_name": "LayoutModel",
      "_view_count": null,
      "_view_module": "@jupyter-widgets/base",
      "_view_module_version": "1.2.0",
      "_view_name": "LayoutView",
      "align_content": null,
      "align_items": null,
      "align_self": null,
      "border": null,
      "bottom": null,
      "display": null,
      "flex": null,
      "flex_flow": null,
      "grid_area": null,
      "grid_auto_columns": null,
      "grid_auto_flow": null,
      "grid_auto_rows": null,
      "grid_column": null,
      "grid_gap": null,
      "grid_row": null,
      "grid_template_areas": null,
      "grid_template_columns": null,
      "grid_template_rows": null,
      "height": null,
      "justify_content": null,
      "justify_items": null,
      "left": null,
      "margin": null,
      "max_height": null,
      "max_width": null,
      "min_height": null,
      "min_width": null,
      "object_fit": null,
      "object_position": null,
      "order": null,
      "overflow": null,
      "overflow_x": null,
      "overflow_y": null,
      "padding": null,
      "right": null,
      "top": null,
      "visibility": null,
      "width": null
     }
    },
    "93be7349b3244418978ca59e1938dc4d": {
     "model_module": "@jupyter-widgets/base",
     "model_module_version": "1.2.0",
     "model_name": "LayoutModel",
     "state": {
      "_model_module": "@jupyter-widgets/base",
      "_model_module_version": "1.2.0",
      "_model_name": "LayoutModel",
      "_view_count": null,
      "_view_module": "@jupyter-widgets/base",
      "_view_module_version": "1.2.0",
      "_view_name": "LayoutView",
      "align_content": null,
      "align_items": null,
      "align_self": null,
      "border": null,
      "bottom": null,
      "display": null,
      "flex": null,
      "flex_flow": null,
      "grid_area": null,
      "grid_auto_columns": null,
      "grid_auto_flow": null,
      "grid_auto_rows": null,
      "grid_column": null,
      "grid_gap": null,
      "grid_row": null,
      "grid_template_areas": null,
      "grid_template_columns": null,
      "grid_template_rows": null,
      "height": null,
      "justify_content": null,
      "justify_items": null,
      "left": null,
      "margin": null,
      "max_height": null,
      "max_width": null,
      "min_height": null,
      "min_width": null,
      "object_fit": null,
      "object_position": null,
      "order": null,
      "overflow": null,
      "overflow_x": null,
      "overflow_y": null,
      "padding": null,
      "right": null,
      "top": null,
      "visibility": null,
      "width": null
     }
    },
    "944354e9ff104d968d36d94ec2843912": {
     "model_module": "@jupyter-widgets/controls",
     "model_module_version": "1.5.0",
     "model_name": "HBoxModel",
     "state": {
      "_dom_classes": [],
      "_model_module": "@jupyter-widgets/controls",
      "_model_module_version": "1.5.0",
      "_model_name": "HBoxModel",
      "_view_count": null,
      "_view_module": "@jupyter-widgets/controls",
      "_view_module_version": "1.5.0",
      "_view_name": "HBoxView",
      "box_style": "",
      "children": [
       "IPY_MODEL_e41821ce824e4fd4996aaa67cfc401d5",
       "IPY_MODEL_9eedc8d82a8f4c0da5f16ed4a9ec6037",
       "IPY_MODEL_a824cc194ec3442fba70c58ca2c78a22"
      ],
      "layout": "IPY_MODEL_2fe411ed3e1b4ae3a40932f52ed0c606"
     }
    },
    "94d170bdced74a62af9b4374c2ecab63": {
     "model_module": "@jupyter-widgets/controls",
     "model_module_version": "1.5.0",
     "model_name": "DescriptionStyleModel",
     "state": {
      "_model_module": "@jupyter-widgets/controls",
      "_model_module_version": "1.5.0",
      "_model_name": "DescriptionStyleModel",
      "_view_count": null,
      "_view_module": "@jupyter-widgets/base",
      "_view_module_version": "1.2.0",
      "_view_name": "StyleView",
      "description_width": ""
     }
    },
    "9eedc8d82a8f4c0da5f16ed4a9ec6037": {
     "model_module": "@jupyter-widgets/controls",
     "model_module_version": "1.5.0",
     "model_name": "FloatProgressModel",
     "state": {
      "_dom_classes": [],
      "_model_module": "@jupyter-widgets/controls",
      "_model_module_version": "1.5.0",
      "_model_name": "FloatProgressModel",
      "_view_count": null,
      "_view_module": "@jupyter-widgets/controls",
      "_view_module_version": "1.5.0",
      "_view_name": "ProgressView",
      "bar_style": "success",
      "description": "",
      "description_tooltip": null,
      "layout": "IPY_MODEL_2c1e5230bda34f28aef4dcc2dd269be8",
      "max": 231,
      "min": 0,
      "orientation": "horizontal",
      "style": "IPY_MODEL_04fc65acff014fd58f89f80c0cad1488",
      "value": 231
     }
    },
    "a08e8e18c08b46dd9420a7f1f83617a2": {
     "model_module": "@jupyter-widgets/base",
     "model_module_version": "1.2.0",
     "model_name": "LayoutModel",
     "state": {
      "_model_module": "@jupyter-widgets/base",
      "_model_module_version": "1.2.0",
      "_model_name": "LayoutModel",
      "_view_count": null,
      "_view_module": "@jupyter-widgets/base",
      "_view_module_version": "1.2.0",
      "_view_name": "LayoutView",
      "align_content": null,
      "align_items": null,
      "align_self": null,
      "border": null,
      "bottom": null,
      "display": null,
      "flex": null,
      "flex_flow": null,
      "grid_area": null,
      "grid_auto_columns": null,
      "grid_auto_flow": null,
      "grid_auto_rows": null,
      "grid_column": null,
      "grid_gap": null,
      "grid_row": null,
      "grid_template_areas": null,
      "grid_template_columns": null,
      "grid_template_rows": null,
      "height": null,
      "justify_content": null,
      "justify_items": null,
      "left": null,
      "margin": null,
      "max_height": null,
      "max_width": null,
      "min_height": null,
      "min_width": null,
      "object_fit": null,
      "object_position": null,
      "order": null,
      "overflow": null,
      "overflow_x": null,
      "overflow_y": null,
      "padding": null,
      "right": null,
      "top": null,
      "visibility": null,
      "width": null
     }
    },
    "a4e19b7d5c7740c28258e835ae932c1e": {
     "model_module": "@jupyter-widgets/controls",
     "model_module_version": "1.5.0",
     "model_name": "DescriptionStyleModel",
     "state": {
      "_model_module": "@jupyter-widgets/controls",
      "_model_module_version": "1.5.0",
      "_model_name": "DescriptionStyleModel",
      "_view_count": null,
      "_view_module": "@jupyter-widgets/base",
      "_view_module_version": "1.2.0",
      "_view_name": "StyleView",
      "description_width": ""
     }
    },
    "a6abfa1e6ad844b9941eba0de23085d0": {
     "model_module": "@jupyter-widgets/controls",
     "model_module_version": "1.5.0",
     "model_name": "HBoxModel",
     "state": {
      "_dom_classes": [],
      "_model_module": "@jupyter-widgets/controls",
      "_model_module_version": "1.5.0",
      "_model_name": "HBoxModel",
      "_view_count": null,
      "_view_module": "@jupyter-widgets/controls",
      "_view_module_version": "1.5.0",
      "_view_name": "HBoxView",
      "box_style": "",
      "children": [
       "IPY_MODEL_585e2c830fca442795188029829de55d",
       "IPY_MODEL_8ad041ca50574e9da4298992201a6ad2",
       "IPY_MODEL_376f0387eac544549f57eeb9378f634b"
      ],
      "layout": "IPY_MODEL_d9c656ca849b41e0b4d1cb64df16dba7"
     }
    },
    "a824cc194ec3442fba70c58ca2c78a22": {
     "model_module": "@jupyter-widgets/controls",
     "model_module_version": "1.5.0",
     "model_name": "HTMLModel",
     "state": {
      "_dom_classes": [],
      "_model_module": "@jupyter-widgets/controls",
      "_model_module_version": "1.5.0",
      "_model_name": "HTMLModel",
      "_view_count": null,
      "_view_module": "@jupyter-widgets/controls",
      "_view_module_version": "1.5.0",
      "_view_name": "HTMLView",
      "description": "",
      "description_tooltip": null,
      "layout": "IPY_MODEL_47e863871a1c4b34a3b12ec9e79c4703",
      "placeholder": "​",
      "style": "IPY_MODEL_c5c297da81924b8891d0212c475378f5",
      "value": " 231/231 [00:00&lt;00:00, 12.3kB/s]"
     }
    },
    "ab7461de907246e29cb628ff9cf5ae7f": {
     "model_module": "@jupyter-widgets/base",
     "model_module_version": "1.2.0",
     "model_name": "LayoutModel",
     "state": {
      "_model_module": "@jupyter-widgets/base",
      "_model_module_version": "1.2.0",
      "_model_name": "LayoutModel",
      "_view_count": null,
      "_view_module": "@jupyter-widgets/base",
      "_view_module_version": "1.2.0",
      "_view_name": "LayoutView",
      "align_content": null,
      "align_items": null,
      "align_self": null,
      "border": null,
      "bottom": null,
      "display": null,
      "flex": null,
      "flex_flow": null,
      "grid_area": null,
      "grid_auto_columns": null,
      "grid_auto_flow": null,
      "grid_auto_rows": null,
      "grid_column": null,
      "grid_gap": null,
      "grid_row": null,
      "grid_template_areas": null,
      "grid_template_columns": null,
      "grid_template_rows": null,
      "height": null,
      "justify_content": null,
      "justify_items": null,
      "left": null,
      "margin": null,
      "max_height": null,
      "max_width": null,
      "min_height": null,
      "min_width": null,
      "object_fit": null,
      "object_position": null,
      "order": null,
      "overflow": null,
      "overflow_x": null,
      "overflow_y": null,
      "padding": null,
      "right": null,
      "top": null,
      "visibility": null,
      "width": null
     }
    },
    "ad9b61a1dd4d428fa432bfea04390ecb": {
     "model_module": "@jupyter-widgets/base",
     "model_module_version": "1.2.0",
     "model_name": "LayoutModel",
     "state": {
      "_model_module": "@jupyter-widgets/base",
      "_model_module_version": "1.2.0",
      "_model_name": "LayoutModel",
      "_view_count": null,
      "_view_module": "@jupyter-widgets/base",
      "_view_module_version": "1.2.0",
      "_view_name": "LayoutView",
      "align_content": null,
      "align_items": null,
      "align_self": null,
      "border": null,
      "bottom": null,
      "display": null,
      "flex": null,
      "flex_flow": null,
      "grid_area": null,
      "grid_auto_columns": null,
      "grid_auto_flow": null,
      "grid_auto_rows": null,
      "grid_column": null,
      "grid_gap": null,
      "grid_row": null,
      "grid_template_areas": null,
      "grid_template_columns": null,
      "grid_template_rows": null,
      "height": null,
      "justify_content": null,
      "justify_items": null,
      "left": null,
      "margin": null,
      "max_height": null,
      "max_width": null,
      "min_height": null,
      "min_width": null,
      "object_fit": null,
      "object_position": null,
      "order": null,
      "overflow": null,
      "overflow_x": null,
      "overflow_y": null,
      "padding": null,
      "right": null,
      "top": null,
      "visibility": null,
      "width": null
     }
    },
    "ae7031fda976463cbd6806cc2f0e30b4": {
     "model_module": "@jupyter-widgets/base",
     "model_module_version": "1.2.0",
     "model_name": "LayoutModel",
     "state": {
      "_model_module": "@jupyter-widgets/base",
      "_model_module_version": "1.2.0",
      "_model_name": "LayoutModel",
      "_view_count": null,
      "_view_module": "@jupyter-widgets/base",
      "_view_module_version": "1.2.0",
      "_view_name": "LayoutView",
      "align_content": null,
      "align_items": null,
      "align_self": null,
      "border": null,
      "bottom": null,
      "display": null,
      "flex": null,
      "flex_flow": null,
      "grid_area": null,
      "grid_auto_columns": null,
      "grid_auto_flow": null,
      "grid_auto_rows": null,
      "grid_column": null,
      "grid_gap": null,
      "grid_row": null,
      "grid_template_areas": null,
      "grid_template_columns": null,
      "grid_template_rows": null,
      "height": null,
      "justify_content": null,
      "justify_items": null,
      "left": null,
      "margin": null,
      "max_height": null,
      "max_width": null,
      "min_height": null,
      "min_width": null,
      "object_fit": null,
      "object_position": null,
      "order": null,
      "overflow": null,
      "overflow_x": null,
      "overflow_y": null,
      "padding": null,
      "right": null,
      "top": null,
      "visibility": null,
      "width": null
     }
    },
    "b2fd22cfb954428795517c983671da44": {
     "model_module": "@jupyter-widgets/controls",
     "model_module_version": "1.5.0",
     "model_name": "ProgressStyleModel",
     "state": {
      "_model_module": "@jupyter-widgets/controls",
      "_model_module_version": "1.5.0",
      "_model_name": "ProgressStyleModel",
      "_view_count": null,
      "_view_module": "@jupyter-widgets/base",
      "_view_module_version": "1.2.0",
      "_view_name": "StyleView",
      "bar_color": null,
      "description_width": ""
     }
    },
    "b535f5945cb141629eae548501d408c7": {
     "model_module": "@jupyter-widgets/base",
     "model_module_version": "1.2.0",
     "model_name": "LayoutModel",
     "state": {
      "_model_module": "@jupyter-widgets/base",
      "_model_module_version": "1.2.0",
      "_model_name": "LayoutModel",
      "_view_count": null,
      "_view_module": "@jupyter-widgets/base",
      "_view_module_version": "1.2.0",
      "_view_name": "LayoutView",
      "align_content": null,
      "align_items": null,
      "align_self": null,
      "border": null,
      "bottom": null,
      "display": null,
      "flex": null,
      "flex_flow": null,
      "grid_area": null,
      "grid_auto_columns": null,
      "grid_auto_flow": null,
      "grid_auto_rows": null,
      "grid_column": null,
      "grid_gap": null,
      "grid_row": null,
      "grid_template_areas": null,
      "grid_template_columns": null,
      "grid_template_rows": null,
      "height": null,
      "justify_content": null,
      "justify_items": null,
      "left": null,
      "margin": null,
      "max_height": null,
      "max_width": null,
      "min_height": null,
      "min_width": null,
      "object_fit": null,
      "object_position": null,
      "order": null,
      "overflow": null,
      "overflow_x": null,
      "overflow_y": null,
      "padding": null,
      "right": null,
      "top": null,
      "visibility": null,
      "width": null
     }
    },
    "b7ca1619ec794891b416331df3b42c53": {
     "model_module": "@jupyter-widgets/base",
     "model_module_version": "1.2.0",
     "model_name": "LayoutModel",
     "state": {
      "_model_module": "@jupyter-widgets/base",
      "_model_module_version": "1.2.0",
      "_model_name": "LayoutModel",
      "_view_count": null,
      "_view_module": "@jupyter-widgets/base",
      "_view_module_version": "1.2.0",
      "_view_name": "LayoutView",
      "align_content": null,
      "align_items": null,
      "align_self": null,
      "border": null,
      "bottom": null,
      "display": null,
      "flex": null,
      "flex_flow": null,
      "grid_area": null,
      "grid_auto_columns": null,
      "grid_auto_flow": null,
      "grid_auto_rows": null,
      "grid_column": null,
      "grid_gap": null,
      "grid_row": null,
      "grid_template_areas": null,
      "grid_template_columns": null,
      "grid_template_rows": null,
      "height": null,
      "justify_content": null,
      "justify_items": null,
      "left": null,
      "margin": null,
      "max_height": null,
      "max_width": null,
      "min_height": null,
      "min_width": null,
      "object_fit": null,
      "object_position": null,
      "order": null,
      "overflow": null,
      "overflow_x": null,
      "overflow_y": null,
      "padding": null,
      "right": null,
      "top": null,
      "visibility": null,
      "width": null
     }
    },
    "c2d424b9929140ab856ffb1b5e20bd5a": {
     "model_module": "@jupyter-widgets/controls",
     "model_module_version": "1.5.0",
     "model_name": "HTMLModel",
     "state": {
      "_dom_classes": [],
      "_model_module": "@jupyter-widgets/controls",
      "_model_module_version": "1.5.0",
      "_model_name": "HTMLModel",
      "_view_count": null,
      "_view_module": "@jupyter-widgets/controls",
      "_view_module_version": "1.5.0",
      "_view_name": "HTMLView",
      "description": "",
      "description_tooltip": null,
      "layout": "IPY_MODEL_004a4232b20c4ad9972625138ea4aca2",
      "placeholder": "​",
      "style": "IPY_MODEL_db473cea720f46198d926f1c7c50ce13",
      "value": " 4.92k/4.92k [00:00&lt;00:00, 183kB/s]"
     }
    },
    "c5c297da81924b8891d0212c475378f5": {
     "model_module": "@jupyter-widgets/controls",
     "model_module_version": "1.5.0",
     "model_name": "DescriptionStyleModel",
     "state": {
      "_model_module": "@jupyter-widgets/controls",
      "_model_module_version": "1.5.0",
      "_model_name": "DescriptionStyleModel",
      "_view_count": null,
      "_view_module": "@jupyter-widgets/base",
      "_view_module_version": "1.2.0",
      "_view_name": "StyleView",
      "description_width": ""
     }
    },
    "d1a6cf5a0dcf43638d2c00debb35d8b0": {
     "model_module": "@jupyter-widgets/controls",
     "model_module_version": "1.5.0",
     "model_name": "HTMLModel",
     "state": {
      "_dom_classes": [],
      "_model_module": "@jupyter-widgets/controls",
      "_model_module_version": "1.5.0",
      "_model_name": "HTMLModel",
      "_view_count": null,
      "_view_module": "@jupyter-widgets/controls",
      "_view_module_version": "1.5.0",
      "_view_name": "HTMLView",
      "description": "",
      "description_tooltip": null,
      "layout": "IPY_MODEL_60b429c6afc940a6965c6c89b31f8f80",
      "placeholder": "​",
      "style": "IPY_MODEL_1c2631fe845846138c55ddca24102996",
      "value": "Downloading (…)lve/main/config.json: 100%"
     }
    },
    "d22a4e91805547cba3d05a685c6c4a08": {
     "model_module": "@jupyter-widgets/controls",
     "model_module_version": "1.5.0",
     "model_name": "DescriptionStyleModel",
     "state": {
      "_model_module": "@jupyter-widgets/controls",
      "_model_module_version": "1.5.0",
      "_model_name": "DescriptionStyleModel",
      "_view_count": null,
      "_view_module": "@jupyter-widgets/base",
      "_view_module_version": "1.2.0",
      "_view_name": "StyleView",
      "description_width": ""
     }
    },
    "d93f211d840146fe8a0ab5da1ba508e6": {
     "model_module": "@jupyter-widgets/controls",
     "model_module_version": "1.5.0",
     "model_name": "ProgressStyleModel",
     "state": {
      "_model_module": "@jupyter-widgets/controls",
      "_model_module_version": "1.5.0",
      "_model_name": "ProgressStyleModel",
      "_view_count": null,
      "_view_module": "@jupyter-widgets/base",
      "_view_module_version": "1.2.0",
      "_view_name": "StyleView",
      "bar_color": null,
      "description_width": ""
     }
    },
    "d9c656ca849b41e0b4d1cb64df16dba7": {
     "model_module": "@jupyter-widgets/base",
     "model_module_version": "1.2.0",
     "model_name": "LayoutModel",
     "state": {
      "_model_module": "@jupyter-widgets/base",
      "_model_module_version": "1.2.0",
      "_model_name": "LayoutModel",
      "_view_count": null,
      "_view_module": "@jupyter-widgets/base",
      "_view_module_version": "1.2.0",
      "_view_name": "LayoutView",
      "align_content": null,
      "align_items": null,
      "align_self": null,
      "border": null,
      "bottom": null,
      "display": null,
      "flex": null,
      "flex_flow": null,
      "grid_area": null,
      "grid_auto_columns": null,
      "grid_auto_flow": null,
      "grid_auto_rows": null,
      "grid_column": null,
      "grid_gap": null,
      "grid_row": null,
      "grid_template_areas": null,
      "grid_template_columns": null,
      "grid_template_rows": null,
      "height": null,
      "justify_content": null,
      "justify_items": null,
      "left": null,
      "margin": null,
      "max_height": null,
      "max_width": null,
      "min_height": null,
      "min_width": null,
      "object_fit": null,
      "object_position": null,
      "order": null,
      "overflow": null,
      "overflow_x": null,
      "overflow_y": null,
      "padding": null,
      "right": null,
      "top": null,
      "visibility": null,
      "width": null
     }
    },
    "da87c820253849e99592238c95f5de70": {
     "model_module": "@jupyter-widgets/base",
     "model_module_version": "1.2.0",
     "model_name": "LayoutModel",
     "state": {
      "_model_module": "@jupyter-widgets/base",
      "_model_module_version": "1.2.0",
      "_model_name": "LayoutModel",
      "_view_count": null,
      "_view_module": "@jupyter-widgets/base",
      "_view_module_version": "1.2.0",
      "_view_name": "LayoutView",
      "align_content": null,
      "align_items": null,
      "align_self": null,
      "border": null,
      "bottom": null,
      "display": null,
      "flex": null,
      "flex_flow": null,
      "grid_area": null,
      "grid_auto_columns": null,
      "grid_auto_flow": null,
      "grid_auto_rows": null,
      "grid_column": null,
      "grid_gap": null,
      "grid_row": null,
      "grid_template_areas": null,
      "grid_template_columns": null,
      "grid_template_rows": null,
      "height": null,
      "justify_content": null,
      "justify_items": null,
      "left": null,
      "margin": null,
      "max_height": null,
      "max_width": null,
      "min_height": null,
      "min_width": null,
      "object_fit": null,
      "object_position": null,
      "order": null,
      "overflow": null,
      "overflow_x": null,
      "overflow_y": null,
      "padding": null,
      "right": null,
      "top": null,
      "visibility": null,
      "width": null
     }
    },
    "db473cea720f46198d926f1c7c50ce13": {
     "model_module": "@jupyter-widgets/controls",
     "model_module_version": "1.5.0",
     "model_name": "DescriptionStyleModel",
     "state": {
      "_model_module": "@jupyter-widgets/controls",
      "_model_module_version": "1.5.0",
      "_model_name": "DescriptionStyleModel",
      "_view_count": null,
      "_view_module": "@jupyter-widgets/base",
      "_view_module_version": "1.2.0",
      "_view_name": "StyleView",
      "description_width": ""
     }
    },
    "e41821ce824e4fd4996aaa67cfc401d5": {
     "model_module": "@jupyter-widgets/controls",
     "model_module_version": "1.5.0",
     "model_name": "HTMLModel",
     "state": {
      "_dom_classes": [],
      "_model_module": "@jupyter-widgets/controls",
      "_model_module_version": "1.5.0",
      "_model_name": "HTMLModel",
      "_view_count": null,
      "_view_module": "@jupyter-widgets/controls",
      "_view_module_version": "1.5.0",
      "_view_name": "HTMLView",
      "description": "",
      "description_tooltip": null,
      "layout": "IPY_MODEL_177be060f5944eb1aa9d5f185f7c5b7c",
      "placeholder": "​",
      "style": "IPY_MODEL_a4e19b7d5c7740c28258e835ae932c1e",
      "value": "Downloading (…)rocessor_config.json: 100%"
     }
    },
    "e4ae113595884e47b1363d9a75a6b383": {
     "model_module": "@jupyter-widgets/controls",
     "model_module_version": "1.5.0",
     "model_name": "HTMLModel",
     "state": {
      "_dom_classes": [],
      "_model_module": "@jupyter-widgets/controls",
      "_model_module_version": "1.5.0",
      "_model_name": "HTMLModel",
      "_view_count": null,
      "_view_module": "@jupyter-widgets/controls",
      "_view_module_version": "1.5.0",
      "_view_name": "HTMLView",
      "description": "",
      "description_tooltip": null,
      "layout": "IPY_MODEL_b535f5945cb141629eae548501d408c7",
      "placeholder": "​",
      "style": "IPY_MODEL_5bd1c5f0a50f4c4c96aea57b442045d9",
      "value": " 3.27M/3.27M [00:00&lt;00:00, 9.75MB/s]"
     }
    },
    "eb2c905ba27d4bab88e9256cc874a729": {
     "model_module": "@jupyter-widgets/controls",
     "model_module_version": "1.5.0",
     "model_name": "HBoxModel",
     "state": {
      "_dom_classes": [],
      "_model_module": "@jupyter-widgets/controls",
      "_model_module_version": "1.5.0",
      "_model_name": "HBoxModel",
      "_view_count": null,
      "_view_module": "@jupyter-widgets/controls",
      "_view_module_version": "1.5.0",
      "_view_name": "HBoxView",
      "box_style": "",
      "children": [
       "IPY_MODEL_3be69f018ed04c5aa9fa888690ab5fd6",
       "IPY_MODEL_efbd5cb2da6647b3b932b81522c01a50",
       "IPY_MODEL_e4ae113595884e47b1363d9a75a6b383"
      ],
      "layout": "IPY_MODEL_151383433fde400eb209908453c20323"
     }
    },
    "efbd5cb2da6647b3b932b81522c01a50": {
     "model_module": "@jupyter-widgets/controls",
     "model_module_version": "1.5.0",
     "model_name": "FloatProgressModel",
     "state": {
      "_dom_classes": [],
      "_model_module": "@jupyter-widgets/controls",
      "_model_module_version": "1.5.0",
      "_model_name": "FloatProgressModel",
      "_view_count": null,
      "_view_module": "@jupyter-widgets/controls",
      "_view_module_version": "1.5.0",
      "_view_name": "ProgressView",
      "bar_style": "success",
      "description": "",
      "description_tooltip": null,
      "layout": "IPY_MODEL_ae7031fda976463cbd6806cc2f0e30b4",
      "max": 3265159,
      "min": 0,
      "orientation": "horizontal",
      "style": "IPY_MODEL_8b55c7fdac574cec94968b73b5ece7af",
      "value": 3265159
     }
    },
    "f36d56f8707c4aab80ead6cbcdd60377": {
     "model_module": "@jupyter-widgets/controls",
     "model_module_version": "1.5.0",
     "model_name": "DescriptionStyleModel",
     "state": {
      "_model_module": "@jupyter-widgets/controls",
      "_model_module_version": "1.5.0",
      "_model_name": "DescriptionStyleModel",
      "_view_count": null,
      "_view_module": "@jupyter-widgets/base",
      "_view_module_version": "1.2.0",
      "_view_name": "StyleView",
      "description_width": ""
     }
    },
    "f37f5a1769894dee9ec944176dc7e12f": {
     "model_module": "@jupyter-widgets/base",
     "model_module_version": "1.2.0",
     "model_name": "LayoutModel",
     "state": {
      "_model_module": "@jupyter-widgets/base",
      "_model_module_version": "1.2.0",
      "_model_name": "LayoutModel",
      "_view_count": null,
      "_view_module": "@jupyter-widgets/base",
      "_view_module_version": "1.2.0",
      "_view_name": "LayoutView",
      "align_content": null,
      "align_items": null,
      "align_self": null,
      "border": null,
      "bottom": null,
      "display": null,
      "flex": null,
      "flex_flow": null,
      "grid_area": null,
      "grid_auto_columns": null,
      "grid_auto_flow": null,
      "grid_auto_rows": null,
      "grid_column": null,
      "grid_gap": null,
      "grid_row": null,
      "grid_template_areas": null,
      "grid_template_columns": null,
      "grid_template_rows": null,
      "height": null,
      "justify_content": null,
      "justify_items": null,
      "left": null,
      "margin": null,
      "max_height": null,
      "max_width": null,
      "min_height": null,
      "min_width": null,
      "object_fit": null,
      "object_position": null,
      "order": null,
      "overflow": null,
      "overflow_x": null,
      "overflow_y": null,
      "padding": null,
      "right": null,
      "top": null,
      "visibility": null,
      "width": null
     }
    },
    "f3ed99321a19412987928237e89a6fbb": {
     "model_module": "@jupyter-widgets/controls",
     "model_module_version": "1.5.0",
     "model_name": "HTMLModel",
     "state": {
      "_dom_classes": [],
      "_model_module": "@jupyter-widgets/controls",
      "_model_module_version": "1.5.0",
      "_model_name": "HTMLModel",
      "_view_count": null,
      "_view_module": "@jupyter-widgets/controls",
      "_view_module_version": "1.5.0",
      "_view_name": "HTMLView",
      "description": "",
      "description_tooltip": null,
      "layout": "IPY_MODEL_93be7349b3244418978ca59e1938dc4d",
      "placeholder": "​",
      "style": "IPY_MODEL_f36d56f8707c4aab80ead6cbcdd60377",
      "value": " 1.13G/1.13G [00:04&lt;00:00, 253MB/s]"
     }
    },
    "fd2f3f70cf7d45559602896ebc023613": {
     "model_module": "@jupyter-widgets/base",
     "model_module_version": "1.2.0",
     "model_name": "LayoutModel",
     "state": {
      "_model_module": "@jupyter-widgets/base",
      "_model_module_version": "1.2.0",
      "_model_name": "LayoutModel",
      "_view_count": null,
      "_view_module": "@jupyter-widgets/base",
      "_view_module_version": "1.2.0",
      "_view_name": "LayoutView",
      "align_content": null,
      "align_items": null,
      "align_self": null,
      "border": null,
      "bottom": null,
      "display": null,
      "flex": null,
      "flex_flow": null,
      "grid_area": null,
      "grid_auto_columns": null,
      "grid_auto_flow": null,
      "grid_auto_rows": null,
      "grid_column": null,
      "grid_gap": null,
      "grid_row": null,
      "grid_template_areas": null,
      "grid_template_columns": null,
      "grid_template_rows": null,
      "height": null,
      "justify_content": null,
      "justify_items": null,
      "left": null,
      "margin": null,
      "max_height": null,
      "max_width": null,
      "min_height": null,
      "min_width": null,
      "object_fit": null,
      "object_position": null,
      "order": null,
      "overflow": null,
      "overflow_x": null,
      "overflow_y": null,
      "padding": null,
      "right": null,
      "top": null,
      "visibility": null,
      "width": null
     }
    },
    "fded23690301496993dbd04a7b91d966": {
     "model_module": "@jupyter-widgets/base",
     "model_module_version": "1.2.0",
     "model_name": "LayoutModel",
     "state": {
      "_model_module": "@jupyter-widgets/base",
      "_model_module_version": "1.2.0",
      "_model_name": "LayoutModel",
      "_view_count": null,
      "_view_module": "@jupyter-widgets/base",
      "_view_module_version": "1.2.0",
      "_view_name": "LayoutView",
      "align_content": null,
      "align_items": null,
      "align_self": null,
      "border": null,
      "bottom": null,
      "display": null,
      "flex": null,
      "flex_flow": null,
      "grid_area": null,
      "grid_auto_columns": null,
      "grid_auto_flow": null,
      "grid_auto_rows": null,
      "grid_column": null,
      "grid_gap": null,
      "grid_row": null,
      "grid_template_areas": null,
      "grid_template_columns": null,
      "grid_template_rows": null,
      "height": null,
      "justify_content": null,
      "justify_items": null,
      "left": null,
      "margin": null,
      "max_height": null,
      "max_width": null,
      "min_height": null,
      "min_width": null,
      "object_fit": null,
      "object_position": null,
      "order": null,
      "overflow": null,
      "overflow_x": null,
      "overflow_y": null,
      "padding": null,
      "right": null,
      "top": null,
      "visibility": null,
      "width": null
     }
    },
    "ffcbbca5551946f997d474b8269b1a0b": {
     "model_module": "@jupyter-widgets/controls",
     "model_module_version": "1.5.0",
     "model_name": "FloatProgressModel",
     "state": {
      "_dom_classes": [],
      "_model_module": "@jupyter-widgets/controls",
      "_model_module_version": "1.5.0",
      "_model_name": "FloatProgressModel",
      "_view_count": null,
      "_view_module": "@jupyter-widgets/controls",
      "_view_module_version": "1.5.0",
      "_view_name": "ProgressView",
      "bar_style": "success",
      "description": "",
      "description_tooltip": null,
      "layout": "IPY_MODEL_3dfe02d92c894899b9c9e8fe0150d58b",
      "max": 1129238081,
      "min": 0,
      "orientation": "horizontal",
      "style": "IPY_MODEL_d93f211d840146fe8a0ab5da1ba508e6",
      "value": 1129238081
     }
    }
   }
  }
 },
 "nbformat": 4,
 "nbformat_minor": 4
}
